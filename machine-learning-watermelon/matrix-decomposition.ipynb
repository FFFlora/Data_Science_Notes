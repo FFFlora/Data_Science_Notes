{
 "cells": [
  {
   "cell_type": "code",
   "execution_count": 5,
   "metadata": {},
   "outputs": [
    {
     "name": "stdout",
     "output_type": "stream",
     "text": [
      "A:\n",
      "array([[-1,  0],\n",
      "       [ 5,  6]])\n",
      "Q:\n",
      "array([[-0.19611614,  0.98058068],\n",
      "       [ 0.98058068,  0.19611614]])\n",
      "R:\n",
      "array([[5.09901951, 5.88348405],\n",
      "       [0.        , 1.17669681]])\n"
     ]
    }
   ],
   "source": [
    "import pprint\n",
    "import scipy\n",
    "import scipy.linalg   # SciPy Linear Algebra Library\n",
    "\n",
    "A = scipy.array([[-1,0],  [5,6]]) \n",
    "Q, R = scipy.linalg.qr(A)\n",
    "\n",
    "print (\"A:\")\n",
    "pprint.pprint(A)\n",
    "\n",
    "print (\"Q:\")\n",
    "pprint.pprint(Q)\n",
    "\n",
    "print (\"R:\")\n",
    "pprint.pprint(R)"
   ]
  },
  {
   "cell_type": "code",
   "execution_count": 6,
   "metadata": {},
   "outputs": [
    {
     "name": "stdout",
     "output_type": "stream",
     "text": [
      "U:\n",
      "array([[-0.08248053,  0.99659268],\n",
      "       [ 0.99659268,  0.08248053]])\n",
      "s:\n",
      "array([7.83669654, 0.76562873])\n",
      "V:\n",
      "array([[ 0.6463749 ,  0.76301998],\n",
      "       [-0.76301998,  0.6463749 ]])\n"
     ]
    }
   ],
   "source": [
    "U,s,V = scipy.linalg.svd(A)\n",
    "print (\"U:\")\n",
    "pprint.pprint(U)\n",
    "\n",
    "print (\"s:\")\n",
    "pprint.pprint(s)\n",
    "\n",
    "print (\"V:\")\n",
    "pprint.pprint(V)"
   ]
  }
 ],
 "metadata": {
  "kernelspec": {
   "display_name": "Python 3",
   "language": "python",
   "name": "python3"
  },
  "language_info": {
   "codemirror_mode": {
    "name": "ipython",
    "version": 3
   },
   "file_extension": ".py",
   "mimetype": "text/x-python",
   "name": "python",
   "nbconvert_exporter": "python",
   "pygments_lexer": "ipython3",
   "version": "3.7.0"
  }
 },
 "nbformat": 4,
 "nbformat_minor": 2
}
