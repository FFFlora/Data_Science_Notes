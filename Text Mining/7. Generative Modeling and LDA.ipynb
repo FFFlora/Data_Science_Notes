{
 "cells": [
  {
   "cell_type": "code",
   "execution_count": null,
   "metadata": {},
   "outputs": [],
   "source": [
    "# Working with LDA in python\n",
    "\"\"\"\n",
    "Many packages available,such as gensim, lda\n",
    "\n",
    "Pre-processing text:\n",
    "- Tokenize, normalize(lowercase)\n",
    "- Stop word removal\n",
    "- Stemming\n",
    "\n",
    "Convert tokenized documents to a document - term matrix\n",
    "\n",
    "Build LDA model on a doc-term matrix\n",
    "\"\"\"\n",
    "\n"
   ]
  },
  {
   "cell_type": "code",
   "execution_count": null,
   "metadata": {},
   "outputs": [],
   "source": [
    "# doc_set: set of pre-processed text documents\n",
    "import gensim\n",
    "from gensim import corpora, models\n",
    "dictionary = corpora.Dictionary(doc_set) #mapping btw doc and words\n",
    "corpus = [dictionary.doc2bow(doc)for doc in doc_set] #create doc-term matrix\n",
    "ldamodel = gensim.models.ldamodel.LdaModel(corpus,num_topics=4,\n",
    "                                          id2word=dictionary,passes=50)\n",
    "print(ldamodel.print_topics(num_topics=4,num_words=5))\n",
    "\n",
    "# ldamodel can also be used to find topic distribution of ducuments\n"
   ]
  }
 ],
 "metadata": {
  "kernelspec": {
   "display_name": "Python 3",
   "language": "python",
   "name": "python3"
  },
  "language_info": {
   "codemirror_mode": {
    "name": "ipython",
    "version": 3
   },
   "file_extension": ".py",
   "mimetype": "text/x-python",
   "name": "python",
   "nbconvert_exporter": "python",
   "pygments_lexer": "ipython3",
   "version": "3.7.0"
  }
 },
 "nbformat": 4,
 "nbformat_minor": 2
}
