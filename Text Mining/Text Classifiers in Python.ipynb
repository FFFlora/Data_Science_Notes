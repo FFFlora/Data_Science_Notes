{
 "cells": [
  {
   "cell_type": "code",
   "execution_count": 1,
   "metadata": {},
   "outputs": [],
   "source": [
    "# Toolkits for Supervised Txt Classification\n",
    "# Scikit-learn\n",
    "# NLTK\n",
    "## interfaces with sklearn and other ML toolkits (Weka)\n",
    "\n",
    "# Scikit-learn \n",
    "# using sklearn naiveBayesClassifier\n"
   ]
  },
  {
   "cell_type": "code",
   "execution_count": null,
   "metadata": {},
   "outputs": [],
   "source": [
    "from sklearn import naive_bayes\n",
    "#two ways of training data in naive bayes\n",
    "# multinomial and bernoulli\n",
    "\n",
    "clfrNB = naive_bayes.MultinomialNB()\n",
    "clfrNB.fit(train_data,train_labels)\n",
    "predicted_labels = clfrNB.predict(test_data)\n",
    "\n",
    "metrics.f1_score(test_labels, predict_labels, average='micro')\n"
   ]
  }
 ],
 "metadata": {
  "kernelspec": {
   "display_name": "Python 3",
   "language": "python",
   "name": "python3"
  },
  "language_info": {
   "codemirror_mode": {
    "name": "ipython",
    "version": 3
   },
   "file_extension": ".py",
   "mimetype": "text/x-python",
   "name": "python",
   "nbconvert_exporter": "python",
   "pygments_lexer": "ipython3",
   "version": "3.7.0"
  }
 },
 "nbformat": 4,
 "nbformat_minor": 2
}
