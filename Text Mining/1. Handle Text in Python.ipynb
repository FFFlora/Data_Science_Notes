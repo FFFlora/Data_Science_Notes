{
 "cells": [
  {
   "cell_type": "code",
   "execution_count": 1,
   "metadata": {},
   "outputs": [
    {
     "data": {
      "text/plain": [
       "75"
      ]
     },
     "execution_count": 1,
     "metadata": {},
     "output_type": "execute_result"
    }
   ],
   "source": [
    "text1 = \"Ethics are built right into the ideas and objectives of the United Nations.\"\n",
    "len(text1)"
   ]
  },
  {
   "cell_type": "code",
   "execution_count": 2,
   "metadata": {},
   "outputs": [
    {
     "data": {
      "text/plain": [
       "13"
      ]
     },
     "execution_count": 2,
     "metadata": {},
     "output_type": "execute_result"
    }
   ],
   "source": [
    "text2 = text1.split(\" \")\n",
    "len(text2)"
   ]
  },
  {
   "cell_type": "code",
   "execution_count": 3,
   "metadata": {},
   "outputs": [
    {
     "data": {
      "text/plain": [
       "['Ethics',\n",
       " 'are',\n",
       " 'built',\n",
       " 'right',\n",
       " 'into',\n",
       " 'the',\n",
       " 'ideas',\n",
       " 'and',\n",
       " 'objectives',\n",
       " 'of',\n",
       " 'the',\n",
       " 'United',\n",
       " 'Nations.']"
      ]
     },
     "execution_count": 3,
     "metadata": {},
     "output_type": "execute_result"
    }
   ],
   "source": [
    "text2"
   ]
  },
  {
   "cell_type": "code",
   "execution_count": 5,
   "metadata": {},
   "outputs": [
    {
     "data": {
      "text/plain": [
       "['Ethics',\n",
       " 'built',\n",
       " 'right',\n",
       " 'into',\n",
       " 'ideas',\n",
       " 'objectives',\n",
       " 'United',\n",
       " 'Nations.']"
      ]
     },
     "execution_count": 5,
     "metadata": {},
     "output_type": "execute_result"
    }
   ],
   "source": [
    "# Long words\n",
    "[w for w in text2 if len(w)>3] "
   ]
  },
  {
   "cell_type": "code",
   "execution_count": 6,
   "metadata": {},
   "outputs": [
    {
     "data": {
      "text/plain": [
       "['Ethics', 'United', 'Nations.']"
      ]
     },
     "execution_count": 6,
     "metadata": {},
     "output_type": "execute_result"
    }
   ],
   "source": [
    "#Capitalize words\n",
    "[w for w in text2 if w.istitle()] #is.title() checks if the first letter is capital, and others are lower\n"
   ]
  },
  {
   "cell_type": "code",
   "execution_count": 7,
   "metadata": {},
   "outputs": [
    {
     "data": {
      "text/plain": [
       "['Ethics', 'ideas', 'objectives']"
      ]
     },
     "execution_count": 7,
     "metadata": {},
     "output_type": "execute_result"
    }
   ],
   "source": [
    "# ends with s\n",
    "[w for w in text2 if w.endswith('s')]"
   ]
  },
  {
   "cell_type": "code",
   "execution_count": 17,
   "metadata": {
    "scrolled": true
   },
   "outputs": [
    {
     "name": "stdout",
     "output_type": "stream",
     "text": [
      "6\n",
      "5\n",
      "4\n"
     ]
    },
    {
     "data": {
      "text/plain": [
       "{'be', 'not', 'or', 'to'}"
      ]
     },
     "execution_count": 17,
     "metadata": {},
     "output_type": "execute_result"
    }
   ],
   "source": [
    "# find unique words\n",
    "text3 = 'To be or not to be'\n",
    "text4 = text3.split(' ')\n",
    "print(len(text4))\n",
    "print(len(set(text4))) #should be 4\n",
    "print(len(set([w.lower() for w in text4])))\n",
    "set([w.lower() for w in text4])"
   ]
  },
  {
   "cell_type": "code",
   "execution_count": null,
   "metadata": {},
   "outputs": [],
   "source": [
    "#comparison funcs\n",
    "w.startswith(t)\n",
    "w.endswith(t)\n",
    "t in s #substring\n",
    "s.isupper();s.islower(); s.istitle()\n",
    "s.isalpha(); #string just made of alphabet\n",
    "s.isdigit();\n",
    "s.isalnum() #string is either alphabets or numbers\n",
    "\n",
    "# string operations\n",
    "s.lower(); s.upper();s.titlecase()\n",
    "s.split(t) #split longer string with smaller string\n",
    "s.splitlines()\n",
    "s.join(t) #take the word in t iteratelly cat with s ,which t is iterable\n",
    "\n",
    "#cleaning operations\n",
    "s.strip(t) # 把带t的都删掉 from the front and the back of the string\n",
    "s.rstrip(t) # 把带t的都删掉 from the right of the string\n",
    "\n",
    "s.find(t)\n",
    "s.rfind(t)\n",
    "s.replace(u,v) #every u will be replaced by v"
   ]
  },
  {
   "cell_type": "code",
   "execution_count": 28,
   "metadata": {},
   "outputs": [
    {
     "name": "stdout",
     "output_type": "stream",
     "text": [
      "geeks\n",
      "1-2-3-4\n"
     ]
    },
    {
     "data": {
      "text/plain": [
       "'aFlora bFlora c'"
      ]
     },
     "execution_count": 28,
     "metadata": {},
     "output_type": "execute_result"
    }
   ],
   "source": [
    "\n",
    "# Joining with empty separator \n",
    "list1 = ['g','e','e','k', 's']  \n",
    "print(\"\".join(list1)) \n",
    "\n",
    "list2 = ['1','2','3','4']  \n",
    "  \n",
    "s = \"-\"\n",
    "  \n",
    "# joins elements of list1 by '-' \n",
    "# and stores in sting s \n",
    "s = s.join(list2) \n",
    "  \n",
    "# join use to join a list of \n",
    "# strings to a separator s \n",
    "print(s) \n",
    "t = 'abc' \n",
    "s = 'Flora '\n",
    "s.join(t)"
   ]
  },
  {
   "cell_type": "code",
   "execution_count": 31,
   "metadata": {},
   "outputs": [
    {
     "name": "stdout",
     "output_type": "stream",
     "text": [
      "['', 'agad', 'g', '']\n",
      "ouagadougou\n",
      "['o', 'u', 'a', 'g', 'a', 'd', 'o', 'u', 'g', 'o', 'u']\n"
     ]
    },
    {
     "data": {
      "text/plain": [
       "['o', 'u', 'a', 'g', 'a', 'd', 'o', 'u', 'g', 'o', 'u']"
      ]
     },
     "execution_count": 31,
     "metadata": {},
     "output_type": "execute_result"
    }
   ],
   "source": [
    "text5 = 'ouagadougou'\n",
    "text6= text5.split('ou')\n",
    "print(text6)\n",
    "print('ou'.join(text6))\n",
    "#2 ways to get chars out of a word\n",
    "#1. list\n",
    "print(list(text5))\n",
    "#2. for loop\n",
    "[c for c in text5]"
   ]
  },
  {
   "cell_type": "code",
   "execution_count": 32,
   "metadata": {},
   "outputs": [
    {
     "data": {
      "text/plain": [
       "['A', 'quick', 'brown', 'fox', 'jumped', 'over', 'the', 'lazy', 'dog.', '']"
      ]
     },
     "execution_count": 32,
     "metadata": {},
     "output_type": "execute_result"
    }
   ],
   "source": [
    "#cleaning the text\n",
    "text8 = 'A quick brown fox jumped over the lazy dog. '\n",
    "text8.split(' ')"
   ]
  },
  {
   "cell_type": "code",
   "execution_count": 34,
   "metadata": {},
   "outputs": [
    {
     "data": {
      "text/plain": [
       "'A quick brown fox jumped over the lazy dog.'"
      ]
     },
     "execution_count": 34,
     "metadata": {},
     "output_type": "execute_result"
    }
   ],
   "source": [
    "text9 = text8.strip()\n",
    "text9"
   ]
  },
  {
   "cell_type": "code",
   "execution_count": 37,
   "metadata": {},
   "outputs": [
    {
     "name": "stdout",
     "output_type": "stream",
     "text": [
      "10\n"
     ]
    },
    {
     "data": {
      "text/plain": [
       "40"
      ]
     },
     "execution_count": 37,
     "metadata": {},
     "output_type": "execute_result"
    }
   ],
   "source": [
    "print(text9.find('o')) # return the offset of 'o'\n",
    "text9.rfind('o')"
   ]
  },
  {
   "cell_type": "code",
   "execution_count": 38,
   "metadata": {},
   "outputs": [
    {
     "data": {
      "text/plain": [
       "'A quick brOwn fOx jumped Over the lazy dOg.'"
      ]
     },
     "execution_count": 38,
     "metadata": {},
     "output_type": "execute_result"
    }
   ],
   "source": [
    "text9.replace('o','O')"
   ]
  },
  {
   "cell_type": "code",
   "execution_count": 30,
   "metadata": {},
   "outputs": [
    {
     "data": {
      "text/plain": [
       "'\\n'"
      ]
     },
     "execution_count": 30,
     "metadata": {},
     "output_type": "execute_result"
    }
   ],
   "source": [
    "f = open('UNDH.txt') # r - read mode\n",
    "text14 = f.readline() # read first line\n",
    "text14"
   ]
  },
  {
   "cell_type": "code",
   "execution_count": 31,
   "metadata": {},
   "outputs": [
    {
     "data": {
      "text/plain": [
       "''"
      ]
     },
     "execution_count": 31,
     "metadata": {},
     "output_type": "execute_result"
    }
   ],
   "source": [
    "# remove the \\n newline char\n",
    "text14.strip()"
   ]
  },
  {
   "cell_type": "code",
   "execution_count": 26,
   "metadata": {
    "scrolled": true
   },
   "outputs": [
    {
     "data": {
      "text/plain": [
       "'(7) IF that is a correct translation there can be no question that the properties were regarded as having been dedicated to the deities and that the income therefrom was to be devoted to the worship of the deity.'"
      ]
     },
     "execution_count": 26,
     "metadata": {},
     "output_type": "execute_result"
    }
   ],
   "source": [
    "f.seek(0) # set the file's current position at the offset\n",
    "text12 = f.read()\n",
    "len(text12)\n",
    "text13 = text12.splitlines()\n",
    "len(text13)\n",
    "text13[20]\n"
   ]
  },
  {
   "cell_type": "code",
   "execution_count": null,
   "metadata": {},
   "outputs": [],
   "source": [
    "#file operations\n",
    "f = open(filename,mode)\n",
    "r.readline();f.read();f.read(n) # read n chars\n",
    "for line in f: do something(line) \n",
    "f.seek(n) # set the reading position\n",
    "f.write(message)\n",
    "f.close"
   ]
  },
  {
   "cell_type": "raw",
   "metadata": {},
   "source": [
    "Ultimate guide to deal with Text Data (using Python) – for Data Scientists and Engineers\n",
    "\n",
    "https://www.analyticsvidhya.com/blog/2018/02/the-different-methods-deal-text-data-predictive-python/"
   ]
  }
 ],
 "metadata": {
  "kernelspec": {
   "display_name": "Python 3",
   "language": "python",
   "name": "python3"
  },
  "language_info": {
   "codemirror_mode": {
    "name": "ipython",
    "version": 3
   },
   "file_extension": ".py",
   "mimetype": "text/x-python",
   "name": "python",
   "nbconvert_exporter": "python",
   "pygments_lexer": "ipython3",
   "version": "3.7.0"
  }
 },
 "nbformat": 4,
 "nbformat_minor": 2
}
