{
 "cells": [
  {
   "cell_type": "markdown",
   "metadata": {},
   "source": [
    "## 提高爬虫的速度\n",
    "- 并发 vs 并行\n",
    "    - 并发(concurrency) 是指在一个时间段内发生若干时间的情况\n",
    "    - 并行(parallelism) 是指在同一时刻发生若干时间的情况\n",
    "- 同步 vs 异步\n",
    "    - 同步：并发或并行的各个人物不是独立运行的，任务之间有一定的交替顺序，可能在运行完一个任务得到结果后，另一个任务才会开始运行\n",
    "    - 异步：并发或并行的各个人物可以独立运行，一个任务的运行不受另一个任务影响，任务之间就象比赛的各个选手在不同的赛道比赛一样，跑步的速度不受其他赛道选手的影响。\n",
    "    \n",
    "    \n",
    "    \n",
    "多线程爬虫：运行在单核上的多线程爬虫，using 'Treading' & 'Queue'\n",
    "多进程爬虫：运行在CPU的多核上，进程是并行的，using 'multiprocessing'\n",
    "    两种方法，一种是 process + Queue, 一种是 Pool + Queue\n",
    "多协程爬虫：Coroutine "
   ]
  },
  {
   "cell_type": "markdown",
   "metadata": {},
   "source": [
    "## 反爬虫 与 反反爬虫\n",
    "1. 可以做一个 User-Agent pool, 并在爬虫过程中随意切换。\n",
    "2. 在header 中写上 Host 和 Referer\n",
    "3. 修改爬虫的间隔时间, 但通常固定的间隔时间并不像真正的用户，可以随机间隔时间。\n",
    "4. 维护一个代理 IP pool (不一定稳定)"
   ]
  },
  {
   "cell_type": "code",
   "execution_count": null,
   "metadata": {},
   "outputs": [],
   "source": [
    "# 随机间隔时间\n",
    "import time\n",
    "import random\n",
    "sleep_time = random.randint(0,2)+random.random()\n",
    "time.sleep(sleep_time)"
   ]
  },
  {
   "cell_type": "markdown",
   "metadata": {},
   "source": [
    "## 登陆与验证码处理\n",
    "1. 找到登陆输入框 inspector - select - <input> - name:'loginname',\n",
    "    这个 loginname 就是要输入的 username \n",
    "2. 找到登陆输入框 inspector - select - <input> - name:'loginpass',\n",
    "    这个 loginpass 就是要输入的 password\n",
    "3. 查找 auto_login 的元素\n",
    "3. 查找 hidden 元素并 copy their value\n",
    "\n"
   ]
  },
  {
   "cell_type": "code",
   "execution_count": 4,
   "metadata": {
    "scrolled": true
   },
   "outputs": [
    {
     "name": "stdout",
     "output_type": "stream",
     "text": [
      "400\n"
     ]
    }
   ],
   "source": [
    "import requests\n",
    "session = requests.session()\n",
    "\n",
    "post_url = 'http://fanfou.com/'\n",
    "agent = 'Mozilla/5.0 (Windows NT 10.0; Win64; x64; rv:67.0) Gecko/20100101 Firefox/67.0'\n",
    "headers = {\n",
    "    'Host':'fanfou.com/',\n",
    "    'User-Agent':agent\n",
    "}\n",
    "postdata = {\n",
    "    'loginname':'avril_99@vii.im',\n",
    "    'loginpass':'',\n",
    "    'action':'/login',\n",
    "    'token':'215816a5'\n",
    "}\n",
    "login = session.post(post_url,data = postdata, headers = headers)\n",
    "#session.cookies.save()\n",
    "\n",
    "print(login.status_code)"
   ]
  },
  {
   "cell_type": "markdown",
   "metadata": {},
   "source": [
    "### 使用Cookies, 使登陆更简单"
   ]
  },
  {
   "cell_type": "code",
   "execution_count": null,
   "metadata": {},
   "outputs": [],
   "source": [
    "import requests\n",
    "import http.cookiejar as cookielib"
   ]
  },
  {
   "cell_type": "code",
   "execution_count": null,
   "metadata": {},
   "outputs": [],
   "source": [
    "session = requests.session()\n",
    "session.cookies = cookielib.LWPCookieJar(filename='cookies')\n",
    "try:\n",
    "    session.cookies.load(ignore_discard=True)\n",
    "except:\n",
    "    print(\"Cookie 未能加载\")\n",
    "    \n",
    "def isLogin():\n",
    "    url = \"http://www.santostang.com/wp-admin/profile.php\"\n",
    "    login_code = session.get(url, headers=headers, allow_redirects=False).status_code\n",
    "    if login_code == 200:\n",
    "        return True\n",
    "    else:\n",
    "        return False\n",
    "    \n",
    "def login(secret, account):\n",
    "    post_url = 'http://www.santostang.com/wp-login.php'\n",
    "    postdata = {\n",
    "        'pwd': secret,\n",
    "        'log': account,\n",
    "        'rememberme' : 'true',\n",
    "        'redirect_to': 'http://www.santostang.com/wp-admin/',\n",
    "        'testcookie' : 1,\n",
    "    }\n",
    "    try:\n",
    "        # 不需要验证码直接登录成功\n",
    "        login_page = session.post(post_url, data=postdata, headers=headers)\n",
    "        login_code = login_page.text\n",
    "        print(login_page.status_code)\n",
    "        #print(login_code)\n",
    "    except:\n",
    "        pass\n",
    "    session.cookies.save()"
   ]
  },
  {
   "cell_type": "code",
   "execution_count": null,
   "metadata": {},
   "outputs": [],
   "source": [
    "if __name__ == '__main__':\n",
    "    agent = 'Mozilla/5.0 (Macintosh; Intel Mac OS X 10_12_3) AppleWebKit/537.36 (KHTML, like Gecko) Chrome/56.0.2924.87 Safari/537.36'\n",
    "    headers = {\n",
    "        \"Host\": \"www.santostang.com\",\n",
    "        \"Origin\":\"http://www.santostang.com\",\n",
    "        \"Referer\":\"http://www.santostang.com/wp-login.php\",\n",
    "        'User-Agent': agent\n",
    "    }\n",
    "    if isLogin():\n",
    "        print('您已经登录')"
   ]
  },
  {
   "cell_type": "markdown",
   "metadata": {},
   "source": [
    "### 验证码\n",
    "处理验证码的主要方式有\n",
    "- 人手输入\n",
    "- OCR 识别"
   ]
  },
  {
   "cell_type": "code",
   "execution_count": null,
   "metadata": {},
   "outputs": [],
   "source": [
    "def get_captcha():\n",
    "    #获取验证码图片所在的url\n",
    "    r = session.get('http://www.santostang.com/wp-login.php?action=register', headers=headers)\n",
    "    soup = BeautifulSoup(r.text, \"lxml\")\n",
    "    captcha_url = soup.find(\"img\", id=\"captcha_code_img\")[\"src\"]\n",
    "    # 获取验证码图片\n",
    "    r = session.get(captcha_url, headers=headers)\n",
    "    with open('captcha.jpg', 'wb') as f:\n",
    "        f.write(r.content)\n",
    "        f.close()\n",
    "    try:\n",
    "        im = Image.open('captcha.jpg')\n",
    "        im.show()\n",
    "        im.close()\n",
    "    except:\n",
    "        print(u'请到 %s 目录找到captcha.jpg 手动输入' % os.path.abspath('captcha.jpg'))\n",
    "    captcha = input(\"please input the captcha\\n>\")\n",
    "    return captcha\n"
   ]
  },
  {
   "cell_type": "code",
   "execution_count": null,
   "metadata": {},
   "outputs": [],
   "source": [
    "def register(account, email):      \n",
    "    post_url = 'http://www.santostang.com/wp-login.php?action=register'\n",
    "    postdata = {\n",
    "        'user_login': account,\n",
    "        'user_email': email,\n",
    "        'redirect_to': '',\n",
    "        }\n",
    "    # 调用get_captcha函数，获取验证码数字\n",
    "    postdata[\"ux_txt_captcha_challenge_field\"] = get_captcha()  \n",
    "    # 提交POST请求，进行注册\n",
    "    register_page = session.post(post_url, data=postdata, headers=headers)\n",
    "    # 若输出打印结果为200，则表示注册成功\n",
    "    print(register_page.status_code)"
   ]
  },
  {
   "cell_type": "code",
   "execution_count": null,
   "metadata": {},
   "outputs": [],
   "source": [
    "\n",
    "\n",
    "import requests\n",
    "from bs4 import BeautifulSoup\n",
    "import re\n",
    "import os\n",
    "from PIL import Image\n",
    "if __name__ == '__main__':\n",
    "    agent = 'Mozilla/5.0 (Macintosh; Intel Mac OS X 10_12_3) AppleWebKit/537.36 (KHTML, like Gecko) Chrome/56.0.2924.87 Safari/537.36'\n",
    "    headers = {\n",
    "        \"Host\": \"www.santostang.com\",\n",
    "        \"Origin\":\"http://www.santostang.com\",\n",
    "        \"Referer\":\"http://www.santostang.com/wp-login.php\",\n",
    "        'User-Agent': agent\n",
    "    }\n",
    "    session = requests.session()\n",
    "    # 调用注册函数进行注册\n",
    "    account = '18341432113' #改成自己用户名\n",
    "    email = 'a12345@qq.com' # 改成自己邮箱\n",
    "    register(account, email)\n",
    "\n"
   ]
  },
  {
   "cell_type": "markdown",
   "metadata": {},
   "source": [
    "#### OCR \n"
   ]
  },
  {
   "cell_type": "code",
   "execution_count": null,
   "metadata": {},
   "outputs": [],
   "source": [
    "from PIL import Image\n",
    "im = Image.open('captcha.jpg')\n",
    "gray = im.convert('L')\n",
    "gray.show()\n",
    "gray.save(\"captcha_gray.jpg\")"
   ]
  },
  {
   "cell_type": "code",
   "execution_count": null,
   "metadata": {},
   "outputs": [],
   "source": [
    "threshold = 150\n",
    "table = []\n",
    "for i in range(256):\n",
    "    if i < threshold:\n",
    "        table.append(0)\n",
    "    else:\n",
    "        table.append(1)\n",
    "out = gray.point(table, '1')\n",
    "out.show()\n",
    "out.save(\"captcha_thresholded.jpg\")"
   ]
  },
  {
   "cell_type": "code",
   "execution_count": null,
   "metadata": {},
   "outputs": [],
   "source": [
    "import pytesseract\n",
    "th = Image.open('captcha_thresholded.jpg')\n",
    "print(pytesseract.image_to_string(th))"
   ]
  }
 ],
 "metadata": {
  "kernelspec": {
   "display_name": "Python 3",
   "language": "python",
   "name": "python3"
  },
  "language_info": {
   "codemirror_mode": {
    "name": "ipython",
    "version": 3
   },
   "file_extension": ".py",
   "mimetype": "text/x-python",
   "name": "python",
   "nbconvert_exporter": "python",
   "pygments_lexer": "ipython3",
   "version": "3.7.0"
  }
 },
 "nbformat": 4,
 "nbformat_minor": 2
}
