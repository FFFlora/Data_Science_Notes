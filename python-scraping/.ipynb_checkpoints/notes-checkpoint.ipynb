{
 "cells": [
  {
   "cell_type": "code",
   "execution_count": 29,
   "metadata": {},
   "outputs": [],
   "source": [
    "import requests\n",
    "from bs4 import BeautifulSoup\n",
    "import codecs"
   ]
  },
  {
   "cell_type": "code",
   "execution_count": 46,
   "metadata": {},
   "outputs": [
    {
     "name": "stdout",
     "output_type": "stream",
     "text": [
      "第四章 – 4.3 通过selenium 模拟浏览器抓取\n"
     ]
    }
   ],
   "source": [
    "link = 'http://www.santostang.com/'\n",
    "headers = {'User-Agent': 'Mozilla/5.0 (Windows NT 10.0; Win64; x64; rv:67.0) Gecko/20100101 Firefox/67.0'}\n",
    "r = requests.get(link, headers = headers)\n",
    "soup  = BeautifulSoup(r.text,\"lxml\")\n",
    "title = soup.find(\"h1\", class_=\"post-title\").a.text.strip() # 使用 bs4 解析代码\n",
    "print(title)# print the first title of the page\n",
    "with codecs.open('save-files/title.txt','a+','utf-8') as f:\n",
    "    f.write(title)"
   ]
  },
  {
   "cell_type": "markdown",
   "metadata": {},
   "source": [
    "# 抓取静态网页\n",
    "### 定制 Requests"
   ]
  },
  {
   "cell_type": "code",
   "execution_count": 35,
   "metadata": {
    "scrolled": true
   },
   "outputs": [
    {
     "name": "stdout",
     "output_type": "stream",
     "text": [
      "URL已经正确编码: http://httpbin.org/get?key1=value1&key2=value2\n",
      "字符串方式的响应体: \n",
      " {\n",
      "  \"args\": {\n",
      "    \"key1\": \"value1\", \n",
      "    \"key2\": \"value2\"\n",
      "  }, \n",
      "  \"headers\": {\n",
      "    \"Accept\": \"*/*\", \n",
      "    \"Accept-Encoding\": \"gzip, deflate\", \n",
      "    \"Host\": \"httpbin.org\", \n",
      "    \"User-Agent\": \"python-requests/2.20.0\"\n",
      "  }, \n",
      "  \"origin\": \"172.113.239.90, 172.113.239.90\", \n",
      "  \"url\": \"https://httpbin.org/get?key1=value1&key2=value2\"\n",
      "}\n",
      "\n"
     ]
    }
   ],
   "source": [
    "import requests\n",
    "key_dict = {'key1': 'value1', 'key2': 'value2'}\n",
    "r = requests.get('http://httpbin.org/get', params=key_dict,timeout = 20) #timeout,如果超过20s无响应就停止\n",
    "print (\"URL已经正确编码:\", r.url)\n",
    "print (\"字符串方式的响应体: \\n\", r.text)"
   ]
  },
  {
   "cell_type": "code",
   "execution_count": 32,
   "metadata": {},
   "outputs": [
    {
     "name": "stdout",
     "output_type": "stream",
     "text": [
      "{\n",
      "  \"args\": {}, \n",
      "  \"data\": \"\", \n",
      "  \"files\": {}, \n",
      "  \"form\": {\n",
      "    \"key1\": \"value1\", \n",
      "    \"key2\": \"value2\"\n",
      "  }, \n",
      "  \"headers\": {\n",
      "    \"Accept\": \"*/*\", \n",
      "    \"Accept-Encoding\": \"gzip, deflate\", \n",
      "    \"Content-Length\": \"23\", \n",
      "    \"Content-Type\": \"application/x-www-form-urlencoded\", \n",
      "    \"Host\": \"httpbin.org\", \n",
      "    \"User-Agent\": \"python-requests/2.20.0\"\n",
      "  }, \n",
      "  \"json\": null, \n",
      "  \"origin\": \"172.113.239.90, 172.113.239.90\", \n",
      "  \"url\": \"https://httpbin.org/post\"\n",
      "}\n",
      "\n"
     ]
    }
   ],
   "source": [
    "import requests\n",
    "key_dict = {'key1': 'value1', 'key2': 'value2'}\n",
    "r = requests.post('http://httpbin.org/post', data=key_dict) # POST\n",
    "print (r.text)"
   ]
  },
  {
   "cell_type": "code",
   "execution_count": 43,
   "metadata": {},
   "outputs": [],
   "source": [
    "# 爬取豆瓣电影 Top250\n",
    "import requests\n",
    "from bs4 import BeautifulSoup\n",
    "def get_movies():\n",
    "    headers = {'User-Agent': 'Mozilla/5.0 (Windows NT 10.0; Win64; x64; rv:67.0) Gecko/20100101 Firefox/67.0'\n",
    "              ,'Host':'movie.douban.com'}\n",
    "    movie_list=[]\n",
    "    for i in range(0,10):\n",
    "        link = 'https://movie.douban.com/top250?start='+str(i*25)\n",
    "        r = requests.get(link, headers = headers,timeout = 20)\n",
    "        soup = BeautifulSoup(r.text,'lxml')\n",
    "        div_list = soup.find_all('div',class_='hd')\n",
    "        for each in div_list:\n",
    "            movie_list.append(each.a.span.text.strip())\n",
    "    return movie_list\n",
    "movies = get_movies()\n",
    "with codecs.open('save-files/douban250.txt','a+','utf-8')as f:\n",
    "    f.write(str(movies))"
   ]
  },
  {
   "cell_type": "markdown",
   "metadata": {},
   "source": [
    "# 抓取动态网页\n"
   ]
  }
 ],
 "metadata": {
  "kernelspec": {
   "display_name": "Python 3",
   "language": "python",
   "name": "python3"
  },
  "language_info": {
   "codemirror_mode": {
    "name": "ipython",
    "version": 3
   },
   "file_extension": ".py",
   "mimetype": "text/x-python",
   "name": "python",
   "nbconvert_exporter": "python",
   "pygments_lexer": "ipython3",
   "version": "3.7.0"
  }
 },
 "nbformat": 4,
 "nbformat_minor": 2
}
