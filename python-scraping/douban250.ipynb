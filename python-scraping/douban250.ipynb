{
 "cells": [
  {
   "cell_type": "code",
   "execution_count": 2,
   "metadata": {},
   "outputs": [],
   "source": [
    "# coding = uft-8\n",
    "import sys\n",
    "from bs4 import BeautifulSoup\n",
    "import re\n",
    "import urllib\n",
    "import xlwt"
   ]
  },
  {
   "cell_type": "code",
   "execution_count": 4,
   "metadata": {},
   "outputs": [],
   "source": [
    "def askURL(url):\n",
    "    request = urllib.request.Request(url)# send request\n",
    "    try:\n",
    "        response = urllib.resquest.urlopen(request) # get the response\n",
    "        html = response.read() # get website \n",
    "        print('%s crawl success' %url)\n",
    "    except urllib.error.URLError as e:\n",
    "        print('%s crwal fail'%url)\n",
    "        if hasattr(e,'code'):\n",
    "            print(e.code)\n",
    "        if hasattr(e,'reason'):\n",
    "            print(e.reason)\n",
    "    return html"
   ]
  },
  {
   "cell_type": "code",
   "execution_count": null,
   "metadata": {},
   "outputs": [],
   "source": [
    "#get information\n",
    "def getDara(baseurl):\n",
    "    findLink = re.compile(r'<a href=\"(.*?)\">') # the detailed webpage\n",
    "    findImgSrc = re.compile(r'<img.*src=\"(.*?)\"',re.S) #get img info\n",
    "    findTitle = re.compile(r'<span class=\"title\">(.*)</span>')\n",
    "    findRating = re.compile(r'<span class=\"rating_num\" property=\"v:average\">(.*)</span>')\n",
    "    findJudge = re.compile(r'<span>(\\d*)人评价</span>')\n",
    "    findBd = re.compile(r'<p class=\"\">(.*)</p>')\n",
    "    datalist=[]\n",
    "    for i in range(0,10):\n",
    "        url = baseurl+str(i*25)\n",
    "        html = askURL(url)\n",
    "        soup = BeautiifulSoup(htmo,'html.parser')\n",
    "        for item in soup.find_all('div', class_='item'):\n",
    "            data = []\n",
    "            item = str(item)\n",
    "            link = re.findall(findLink,item)[0]\n",
    "            data.append(link) # add links\n",
    "            imgSrc = re.findall(findImgSrc,item)[0]\n",
    "            data.append(imgSrc)\n",
    "            titles = re.findall(findTitle,item)\n",
    "            \n",
    "            # for local movies it might only has 1 name\n",
    "            if(len(titles==2)):\n",
    "                chnTitle = titles[0]\n",
    "                data.append(chnTitle) # only add chinese title\n",
    "                otherTitle = titles[1].replace('/','')\n",
    "                data.append(otherTitle)\n",
    "            else:\n",
    "                data.append(titles[0])\n",
    "                data.append(' ')\n",
    "            rating = re.findall(findRating,item)[0]\n",
    "            data.append(rating)\n",
    "            judgeNum=re.findall(findJudge,item)[0]\n",
    "            data.append(judgeNum)\n",
    "            bd=re.findall(findBd,item)[0]\n",
    "            bd=re.sub(remove,'',bd)\n",
    "            bd=re.sub('<br(\\s+)?\\/?>(\\s+)?',' ',bd) #get rid of <br>\n",
    "            bd=re.sub('/',' ',bd)\n",
    "            data.append(bd.strip())\n",
    "            datalist.append(data)\n",
    "        return datalist"
   ]
  }
 ],
 "metadata": {
  "kernelspec": {
   "display_name": "Python 3",
   "language": "python",
   "name": "python3"
  },
  "language_info": {
   "codemirror_mode": {
    "name": "ipython",
    "version": 3
   },
   "file_extension": ".py",
   "mimetype": "text/x-python",
   "name": "python",
   "nbconvert_exporter": "python",
   "pygments_lexer": "ipython3",
   "version": "3.7.0"
  }
 },
 "nbformat": 4,
 "nbformat_minor": 2
}
