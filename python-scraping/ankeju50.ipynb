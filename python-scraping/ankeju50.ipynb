{
 "cells": [
  {
   "cell_type": "code",
   "execution_count": null,
   "metadata": {},
   "outputs": [],
   "source": [
    "# 安居客\n",
    "import requests\n",
    "from bs4 import BeautifulSoup\n",
    "import pandas as pd\n",
    "\n",
    "headers = {'User-Agent': 'Mozilla/5.0 (Windows NT 10.0; Win64; x64; rv:67.0) Gecko/20100101 Firefox/67.0'}\n",
    "result = pd.DataFrame(columns=['name', 'price','unit_price',\n",
    "                               'room_type', 'area','floor',\n",
    "                               'year', 'broker','address', 'tag'])\n",
    "for i in range(1,50):\n",
    "    print('Page',i)\n",
    "    link = 'https://qd.anjuke.com/sale/p' + str(i)\n",
    "    r =requests.get(link,headers = headers)\n",
    "    soup=BeautifulSoup(r.text,'lxml')\n",
    "    house_list = soup.find_all('li',class_='list-item')\n",
    "    for house in house_list:\n",
    "        name = house.find('div', class_='house-title').a.text.strip()\n",
    "        price = house.find('span',class_='price-det').text.strip()\n",
    "        unit_price = house.find('span',class_= 'unit-price').text.strip()\n",
    "        room_type = house.find('div',class_='details-item').span.text\n",
    "        area = house.find('div',class_='details-item').contents[3].text\n",
    "        floor = house.find('div',class_='details-item').contents[5].text\n",
    "        year = house.find('div',class_='details-item').contents[7].text\n",
    "        broker = house.find('span',class_='broker-name broker-text').text\n",
    "        address = house.find('span',class_='comm-address').text\n",
    "        tags_list = house.find_all('div',class_='tags-bottom')\n",
    "        tag = ','.join([i.text for i in tags_list])\n",
    " \n",
    "        new_li=[name,price,unit_price,room_type, area,\n",
    "                                floor,year,broker,address, tag]\n",
    "        new_li = pd.DataFrame(new_li)\n",
    "        #result.append(new_li)\n",
    "        #print(new_li)\n",
    "        \"\"\"with open('save-files/anjuke.csv','a+')as f:\n",
    "            f.write(new_li)\n",
    "        \"\"\"\n",
    "        with open('save-files/anjuke50.csv','a',encoding=\"utf-8\")as f:\n",
    "            new_li.to_csv(f,header=False)\n",
    "        #print(result)\n",
    "    time.sleep(5)\n",
    "    \n"
   ]
  }
 ],
 "metadata": {
  "kernelspec": {
   "display_name": "Python 3",
   "language": "python",
   "name": "python3"
  },
  "language_info": {
   "codemirror_mode": {
    "name": "ipython",
    "version": 3
   },
   "file_extension": ".py",
   "mimetype": "text/x-python",
   "name": "python",
   "nbconvert_exporter": "python",
   "pygments_lexer": "ipython3",
   "version": "3.7.0"
  }
 },
 "nbformat": 4,
 "nbformat_minor": 2
}
