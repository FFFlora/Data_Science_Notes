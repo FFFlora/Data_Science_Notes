{
 "cells": [
  {
   "cell_type": "code",
   "execution_count": 29,
   "metadata": {},
   "outputs": [],
   "source": [
    "import requests\n",
    "from bs4 import BeautifulSoup\n",
    "import codecs"
   ]
  },
  {
   "cell_type": "code",
   "execution_count": 46,
   "metadata": {},
   "outputs": [
    {
     "name": "stdout",
     "output_type": "stream",
     "text": [
      "第四章 – 4.3 通过selenium 模拟浏览器抓取\n"
     ]
    }
   ],
   "source": [
    "link = 'http://www.santostang.com/'\n",
    "headers = {'User-Agent': 'Mozilla/5.0 (Windows NT 10.0; Win64; x64; rv:67.0) Gecko/20100101 Firefox/67.0'}\n",
    "r = requests.get(link, headers = headers)\n",
    "soup  = BeautifulSoup(r.text,\"lxml\")\n",
    "title = soup.find(\"h1\", class_=\"post-title\").a.text.strip() # 使用 bs4 解析代码\n",
    "print(title)# print the first title of the page\n",
    "with codecs.open('save-files/title.txt','a+','utf-8') as f:\n",
    "    f.write(title)"
   ]
  },
  {
   "cell_type": "markdown",
   "metadata": {},
   "source": [
    "# 抓取静态网页\n",
    "### 定制 Requests"
   ]
  },
  {
   "cell_type": "code",
   "execution_count": 35,
   "metadata": {
    "scrolled": true
   },
   "outputs": [
    {
     "name": "stdout",
     "output_type": "stream",
     "text": [
      "URL已经正确编码: http://httpbin.org/get?key1=value1&key2=value2\n",
      "字符串方式的响应体: \n",
      " {\n",
      "  \"args\": {\n",
      "    \"key1\": \"value1\", \n",
      "    \"key2\": \"value2\"\n",
      "  }, \n",
      "  \"headers\": {\n",
      "    \"Accept\": \"*/*\", \n",
      "    \"Accept-Encoding\": \"gzip, deflate\", \n",
      "    \"Host\": \"httpbin.org\", \n",
      "    \"User-Agent\": \"python-requests/2.20.0\"\n",
      "  }, \n",
      "  \"origin\": \"172.113.239.90, 172.113.239.90\", \n",
      "  \"url\": \"https://httpbin.org/get?key1=value1&key2=value2\"\n",
      "}\n",
      "\n"
     ]
    }
   ],
   "source": [
    "import requests\n",
    "key_dict = {'key1': 'value1', 'key2': 'value2'}\n",
    "r = requests.get('http://httpbin.org/get', params=key_dict,timeout = 20) #timeout,如果超过20s无响应就停止\n",
    "print (\"URL已经正确编码:\", r.url)\n",
    "print (\"字符串方式的响应体: \\n\", r.text)"
   ]
  },
  {
   "cell_type": "code",
   "execution_count": 32,
   "metadata": {},
   "outputs": [
    {
     "name": "stdout",
     "output_type": "stream",
     "text": [
      "{\n",
      "  \"args\": {}, \n",
      "  \"data\": \"\", \n",
      "  \"files\": {}, \n",
      "  \"form\": {\n",
      "    \"key1\": \"value1\", \n",
      "    \"key2\": \"value2\"\n",
      "  }, \n",
      "  \"headers\": {\n",
      "    \"Accept\": \"*/*\", \n",
      "    \"Accept-Encoding\": \"gzip, deflate\", \n",
      "    \"Content-Length\": \"23\", \n",
      "    \"Content-Type\": \"application/x-www-form-urlencoded\", \n",
      "    \"Host\": \"httpbin.org\", \n",
      "    \"User-Agent\": \"python-requests/2.20.0\"\n",
      "  }, \n",
      "  \"json\": null, \n",
      "  \"origin\": \"172.113.239.90, 172.113.239.90\", \n",
      "  \"url\": \"https://httpbin.org/post\"\n",
      "}\n",
      "\n"
     ]
    }
   ],
   "source": [
    "import requests\n",
    "key_dict = {'key1': 'value1', 'key2': 'value2'}\n",
    "r = requests.post('http://httpbin.org/post', data=key_dict) # POST\n",
    "print (r.text)"
   ]
  },
  {
   "cell_type": "code",
   "execution_count": 43,
   "metadata": {},
   "outputs": [],
   "source": [
    "# 爬取豆瓣电影 Top250\n",
    "import requests\n",
    "from bs4 import BeautifulSoup\n",
    "def get_movies():\n",
    "    headers = {'User-Agent': 'Mozilla/5.0 (Windows NT 10.0; Win64; x64; rv:67.0) Gecko/20100101 Firefox/67.0'\n",
    "              ,'Host':'movie.douban.com'}\n",
    "    movie_list=[]\n",
    "    for i in range(0,10):\n",
    "        link = 'https://movie.douban.com/top250?start='+str(i*25)\n",
    "        r = requests.get(link, headers = headers,timeout = 20)\n",
    "        soup = BeautifulSoup(r.text,'lxml')\n",
    "        div_list = soup.find_all('div',class_='hd')\n",
    "        for each in div_list:\n",
    "            movie_list.append(each.a.span.text.strip())\n",
    "    return movie_list\n",
    "movies = get_movies()\n",
    "with codecs.open('save-files/douban250.txt','a+','utf-8')as f:\n",
    "    f.write(str(movies))"
   ]
  },
  {
   "cell_type": "markdown",
   "metadata": {},
   "source": [
    "# 抓取动态网页\n"
   ]
  },
  {
   "cell_type": "code",
   "execution_count": 24,
   "metadata": {},
   "outputs": [
    {
     "name": "stdout",
     "output_type": "stream",
     "text": [
      "/**/ typeof jQuery11240178955723632786_1561587436044 === 'function' && jQuery11240178955723632786_1561587436044({\"results\":{\"parents\":[{\"replySeq\":37684295,\"name\":\"风宇者\",\"memberId\":\"oBVoaxKuZfl_rAbgoRqRXdGKK4Pw\",\"memberIcon\":\"http://thirdwx.qlogo.cn/mmopen/vi_32/DYAIOgq83epXHLm9icdEzOibBmbzRT9NJbD4OtfIGVjY0gprLoftUu3SJxk6ImZyXBhffYRQjuxXibQyFgHqTAiaqw/132\",\"memberUrl\":\"http://www.wechat.com\",\"memberDomain\":\"wechat\",\"good\":0,\"bad\":0,\"police\":0,\"parentSeq\":37684295,\"directSeq\":0,\"shortUrl\":null,\"title\":\"Hello world!\",\"site\":\"http://www.santostang.com/2018/07/04/hello-world/\",\"email\":null,\"ipAddress\":\"125.82.23.76\",\"isMobile\":\"0\",\"agent\":\"Mozilla/5.0 (Windows NT 6.1; Win64; x64; rv:66.0) Gecko/20100101 Firefox/66.0\",\"septSns\":null,\"targetService\":null,\"targetUserName\":null,\"info1\":null,\"info2\":null,\"info3\":null,\"image1\":null,\"image2\":null,\"image3\":null,\"link1\":null,\"link2\":null,\"link3\":null,\"isSecret\":0,\"isModified\":0,\"confirm\":0,\"subCount\":1,\"regdate\":\"2019-05-12T11:38:09.000Z\",\"deletedDate\":null,\"file1\":null,\"file2\":null,\"file3\":null,\"additionalSeq\":0,\"content\":\"简直有毒，这段代码有时候可以执行，有时候又失效了\\nfrom selenium import webdriver\\ndriver = webdriver.Firefox(executable_path = r'C:/Users/Administrator/Desktop/geckodriver.exe')\\ndriver.get('http://www.santostang.com/2018/07/04/hello-world/')\\ndriver.switch_to.frame(driver.find_element_by_css_selector(\\\"iframe[title='livere']\\\"))\\ncomment = driver.find_element_by_css_selector('div.reply-content')\\ncontent = comment.find_element_by_tag_name('p')\\nprint (content.text)\",\"quotationSeq\":null,\"quotationContent\":null,\"consumerSeq\":1020,\"livereSeq\":28583,\"repSeq\":4272904,\"memberGroupSeq\":30670438,\"memberSeq\":31201599,\"status\":0,\"repGroupSeq\":0,\"adminSeq\":25413747,\"deleteReason\":null,\"sticker\":0,\"version\":null},{\"replySeq\":37654725,\"name\":\"周前\",\"memberId\":\"oBVoaxMv4rc7XjOhokOgNjPd5NDI\",\"memberIcon\":\"http://thirdwx.qlogo.cn/mmopen/vi_32/Q0j4TwGTfTIqibK6o5uYLBLyBRBwSL5UpUZGH6w0mnib1qZafX3v2VLKXcUCbT14pdiaU2b84gPfRdo5M3lvrM2dA/132\",\"memberUrl\":\"http://www.wechat.com\",\"memberDomain\":\"wechat\",\"good\":0,\"bad\":0,\"police\":0,\"parentSeq\":37654725,\"directSeq\":0,\"shortUrl\":null,\"title\":\"Hello world!\",\"site\":\"http://www.santostang.com/2018/07/04/hello-world/\",\"email\":null,\"ipAddress\":\"202.120.235.51\",\"isMobile\":\"0\",\"agent\":\"Mozilla/5.0 (Windows NT 10.0; WOW64) AppleWebKit/537.36 (KHTML, like Gecko) Chrome/47.0.2526.106 BIDUBrowser/8.7 Safari/537.36\",\"septSns\":null,\"targetService\":null,\"targetUserName\":null,\"info1\":null,\"info2\":null,\"info3\":null,\"image1\":null,\"image2\":null,\"image3\":null,\"link1\":null,\"link2\":null,\"link3\":null,\"isSecret\":0,\"isModified\":0,\"confirm\":0,\"subCount\":0,\"regdate\":\"2019-05-08T09:40:54.000Z\",\"deletedDate\":null,\"file1\":null,\"file2\":null,\"file3\":null,\"additionalSeq\":0,\"content\":\"捣鼓了半天，终于把4.3弄出来了。有一些经验分享一下：（主要是第一个的问题，搞了很久，安装卸载程序好几次）\\n一个是Firefox的版本和Selenium的版本的问题。我最后安装的是Firefox的v55，然后Selenium装的是v3.5.0，因此geckodriver的版本也不是最新版（这个可以去它的官网上看，会说明适用什么版本的），这样就不会出现老师所说的还要补充自己电脑中geckodriver.exe程序的地址的步骤（我觉得这样会方便一点）。其实各个版本的对应关系还有很多，大家可以百度哈（我都是各种百度后解决的）\\n二是4.3中for循环中，有一行忘记缩进了（这个很明显哈，大家看到就知道了）\",\"quotationSeq\":null,\"quotationContent\":null,\"consumerSeq\":1020,\"livereSeq\":28583,\"repSeq\":4272904,\"memberGroupSeq\":30646147,\"memberSeq\":31177066,\"status\":0,\"repGroupSeq\":0,\"adminSeq\":25413747,\"deleteReason\":null,\"sticker\":0,\"version\":null},{\"replySeq\":37633263,\"name\":\"百姓之心\",\"memberId\":\"UID_01059ED11774603C0550D8F21A01A19B\",\"memberIcon\":\"http://thirdqq.qlogo.cn/g?b=oidb&k=oicRc9PuAMWiaKaCms9vb3zw&s=100\",\"memberUrl\":\"https://qq.com/\",\"memberDomain\":\"qq\",\"good\":0,\"bad\":0,\"police\":0,\"parentSeq\":37633263,\"directSeq\":0,\"shortUrl\":null,\"title\":\"Hello world!\",\"site\":\"http://www.santostang.com/2018/07/04/hello-world/\",\"email\":null,\"ipAddress\":\"223.72.163.130\",\"isMobile\":\"0\",\"agent\":\"Mozilla/5.0 (Windows NT 6.1; WOW64) AppleWebKit/537.36 (KHTML, like Gecko) Chrome/49.0.2623.221 Safari/537.36 SE 2.X MetaSr 1.0\",\"septSns\":null,\"targetService\":null,\"targetUserName\":null,\"info1\":null,\"info2\":null,\"info3\":null,\"image1\":null,\"image2\":null,\"image3\":null,\"link1\":null,\"link2\":null,\"link3\":null,\"isSecret\":0,\"isModified\":0,\"confirm\":0,\"subCount\":0,\"regdate\":\"2019-05-05T09:35:39.000Z\",\"deletedDate\":null,\"file1\":null,\"file2\":null,\"file3\":null,\"additionalSeq\":0,\"content\":\"谢谢老师，开始学习\",\"quotationSeq\":null,\"quotationContent\":null,\"consumerSeq\":1020,\"livereSeq\":28583,\"repSeq\":4272904,\"memberGroupSeq\":30627564,\"memberSeq\":31158269,\"status\":0,\"repGroupSeq\":0,\"adminSeq\":25413747,\"deleteReason\":null,\"sticker\":0,\"version\":null},{\"replySeq\":37580285,\"name\":\"　Burning\",\"memberId\":\"UID_9E11980C77C69CA168F16891CC297D01\",\"memberIcon\":\"http://thirdqq.qlogo.cn/g?b=oidb&k=gLibhSQDYGGl26u6lquXKsA&s=100\",\"memberUrl\":\"https://qq.com/\",\"memberDomain\":\"qq\",\"good\":0,\"bad\":0,\"police\":0,\"parentSeq\":37580285,\"directSeq\":0,\"shortUrl\":null,\"title\":\"Hello world!\",\"site\":\"http://www.santostang.com/2018/07/04/hello-world/\",\"email\":null,\"ipAddress\":\"113.57.246.118\",\"isMobile\":\"0\",\"agent\":\"Mozilla/5.0 (Windows NT 10.0; Win64; x64) AppleWebKit/537.36 (KHTML, like Gecko) Chrome/73.0.3683.103 Safari/537.36\",\"septSns\":null,\"targetService\":null,\"targetUserName\":null,\"info1\":null,\"info2\":null,\"info3\":null,\"image1\":\"https://d47jbcq60tnr6.cloudfront.net/2019429/23052-bblob4.3z07g.png\",\"image2\":null,\"image3\":null,\"link1\":null,\"link2\":null,\"link3\":null,\"isSecret\":0,\"isModified\":0,\"confirm\":0,\"subCount\":1,\"regdate\":\"2019-04-29T13:14:05.000Z\",\"deletedDate\":null,\"file1\":null,\"file2\":null,\"file3\":null,\"additionalSeq\":0,\"content\":\"你好，请问为什么我使用书上第2章的爬虫代码时报错？能指导一下吗？我实在不明白soup.find().a.text.strip()中的a是什么意思。\",\"quotationSeq\":null,\"quotationContent\":null,\"consumerSeq\":1020,\"livereSeq\":28583,\"repSeq\":4272904,\"memberGroupSeq\":30589097,\"memberSeq\":31119380,\"status\":0,\"repGroupSeq\":0,\"adminSeq\":25413747,\"deleteReason\":null,\"sticker\":0,\"version\":null},{\"replySeq\":37573597,\"name\":\"杨崇武\",\"memberId\":\"oBVoaxPXf2IudyRhAW_uPszsISXo\",\"memberIcon\":\"http://thirdwx.qlogo.cn/mmopen/vi_32/Q0j4TwGTfTLevUE3gfUicnvOFHLlbXC1GWfibsAGibADgpAwpKPiclfYeS69RpJLokCBfYnVcoBzFR6VTuGWafcqwg/132\",\"memberUrl\":\"http://www.wechat.com\",\"memberDomain\":\"wechat\",\"good\":0,\"bad\":0,\"police\":0,\"parentSeq\":37573597,\"directSeq\":0,\"shortUrl\":null,\"title\":\"Hello world!\",\"site\":\"http://www.santostang.com/2018/07/04/hello-world/\",\"email\":null,\"ipAddress\":\"221.218.214.189\",\"isMobile\":\"0\",\"agent\":\"Mozilla/5.0 (Macintosh; Intel Mac OS X 10_11_6) AppleWebKit/537.36 (KHTML, like Gecko) Chrome/72.0.3626.109 Safari/537.36\",\"septSns\":null,\"targetService\":null,\"targetUserName\":null,\"info1\":null,\"info2\":null,\"info3\":null,\"image1\":null,\"image2\":null,\"image3\":null,\"link1\":null,\"link2\":null,\"link3\":null,\"isSecret\":0,\"isModified\":0,\"confirm\":0,\"subCount\":3,\"regdate\":\"2019-04-29T03:04:28.000Z\",\"deletedDate\":null,\"file1\":null,\"file2\":null,\"file3\":null,\"additionalSeq\":0,\"content\":\"你好，在做第三章爬取豆瓣top250电影时，提示：div_list = soup.find_all('div', class = 'hd')   这行代码语法错误。是因为class的原因吗？ 麻烦有时间指导一下，谢谢。\",\"quotationSeq\":null,\"quotationContent\":null,\"consumerSeq\":1020,\"livereSeq\":28583,\"repSeq\":4272904,\"memberGroupSeq\":30584697,\"memberSeq\":31114944,\"status\":0,\"repGroupSeq\":0,\"adminSeq\":25413747,\"deleteReason\":null,\"sticker\":0,\"version\":null},{\"replySeq\":37503888,\"name\":\"NO NICKNAME\",\"memberId\":\"UID_02714AEFDE516E16C50FE02E8343A5B4\",\"memberIcon\":\"http://thirdqq.qlogo.cn/g?b=oidb&k=Hp3OoiaV4Q6fSBg0gMxnsCw&s=100\",\"memberUrl\":\"https://qq.com/\",\"memberDomain\":\"qq\",\"good\":0,\"bad\":0,\"police\":0,\"parentSeq\":37503888,\"directSeq\":0,\"shortUrl\":null,\"title\":\"Hello world!\",\"site\":\"http://www.santostang.com/2018/07/04/hello-world/\",\"email\":null,\"ipAddress\":\"112.11.208.24\",\"isMobile\":\"0\",\"agent\":\"Mozilla/5.0 (Windows NT 10.0; Win64; x64; rv:66.0) Gecko/20100101 Firefox/66.0\",\"septSns\":null,\"targetService\":null,\"targetUserName\":null,\"info1\":null,\"info2\":null,\"info3\":null,\"image1\":null,\"image2\":null,\"image3\":null,\"link1\":null,\"link2\":null,\"link3\":null,\"isSecret\":0,\"isModified\":0,\"confirm\":0,\"subCount\":1,\"regdate\":\"2019-04-20T02:40:19.000Z\",\"deletedDate\":null,\"file1\":null,\"file2\":null,\"file3\":null,\"additionalSeq\":0,\"content\":\"我遇到问题了，出现Webdrrive error,不知道怎么解决\",\"quotationSeq\":null,\"quotationContent\":null,\"consumerSeq\":1020,\"livereSeq\":28583,\"repSeq\":4272904,\"memberGroupSeq\":30528406,\"memberSeq\":31058157,\"status\":0,\"repGroupSeq\":0,\"adminSeq\":25413747,\"deleteReason\":null,\"sticker\":0,\"version\":null},{\"replySeq\":37457840,\"name\":\"你的眼泪我潕钶取玳。\",\"memberId\":\"UID_A10F942CA421DCB2B971475CE1006C21\",\"memberIcon\":\"http://thirdqq.qlogo.cn/g?b=oidb&k=siaXFvNCW28QB6tOPeQ6U0Q&s=100\",\"memberUrl\":\"https://qq.com/\",\"memberDomain\":\"qq\",\"good\":0,\"bad\":0,\"police\":0,\"parentSeq\":37457840,\"directSeq\":0,\"shortUrl\":null,\"title\":\"Hello world!\",\"site\":\"http://www.santostang.com/2018/07/04/hello-world/\",\"email\":null,\"ipAddress\":\"14.23.136.107\",\"isMobile\":\"0\",\"agent\":\"Mozilla/5.0 (Windows NT 10.0; Win64; x64) AppleWebKit/537.36 (KHTML, like Gecko) Chrome/71.0.3578.98 Safari/537.36\",\"septSns\":null,\"targetService\":null,\"targetUserName\":null,\"info1\":null,\"info2\":null,\"info3\":null,\"image1\":null,\"image2\":null,\"image3\":null,\"link1\":\"http://www.santostang.com/\",\"link2\":null,\"link3\":null,\"isSecret\":0,\"isModified\":0,\"confirm\":0,\"subCount\":0,\"regdate\":\"2019-04-14T06:33:29.000Z\",\"deletedDate\":null,\"file1\":null,\"file2\":null,\"file3\":null,\"additionalSeq\":0,\"content\":\"正在学到第四章动态网页爬取。json解析部分。有没有一起学习讨论下的，感觉这部分开始有点难啦。有的加个好友，QQ：656742781\",\"quotationSeq\":null,\"quotationContent\":null,\"consumerSeq\":1020,\"livereSeq\":28583,\"repSeq\":4272904,\"memberGroupSeq\":30491767,\"memberSeq\":31021147,\"status\":0,\"repGroupSeq\":0,\"adminSeq\":25413747,\"deleteReason\":null,\"sticker\":0,\"version\":null},{\"replySeq\":37451664,\"name\":\"反向吃火腿\",\"memberId\":\"UID_564055A31ED2ACC8EE338F924756C1C6\",\"memberIcon\":\"http://thirdqq.qlogo.cn/g?b=oidb&k=icApwTCbhKwBJic5sTYkeeEw&s=100\",\"memberUrl\":\"https://qq.com/\",\"memberDomain\":\"qq\",\"good\":0,\"bad\":0,\"police\":0,\"parentSeq\":37451664,\"directSeq\":0,\"shortUrl\":null,\"title\":\"Hello world!\",\"site\":\"http://www.santostang.com/2018/07/04/hello-world/\",\"email\":null,\"ipAddress\":\"14.109.100.215\",\"isMobile\":\"0\",\"agent\":\"Mozilla/5.0 (Windows NT 10.0; WOW64) AppleWebKit/537.36 (KHTML, like Gecko) Chrome/70.0.3538.25 Safari/537.36 Core/1.70.3650.400 QQBrowser/10.4.3341.400\",\"septSns\":null,\"targetService\":null,\"targetUserName\":null,\"info1\":null,\"info2\":null,\"info3\":null,\"image1\":null,\"image2\":null,\"image3\":null,\"link1\":null,\"link2\":null,\"link3\":null,\"isSecret\":0,\"isModified\":0,\"confirm\":0,\"subCount\":0,\"regdate\":\"2019-04-13T00:46:39.000Z\",\"deletedDate\":null,\"file1\":null,\"file2\":null,\"file3\":null,\"additionalSeq\":0,\"content\":\"来啦\",\"quotationSeq\":null,\"quotationContent\":null,\"consumerSeq\":1020,\"livereSeq\":28583,\"repSeq\":4272904,\"memberGroupSeq\":30485721,\"memberSeq\":31015051,\"status\":0,\"repGroupSeq\":0,\"adminSeq\":25413747,\"deleteReason\":null,\"sticker\":0,\"version\":null},{\"replySeq\":37415154,\"name\":\"叶小灰\",\"memberId\":\"oBVoaxHbfPsYwO2g7d_AxWmWZjsM\",\"memberIcon\":\"http://thirdwx.qlogo.cn/mmopen/vi_32/3Q0NcC9KUH5aQzhrr7fUxvAgraYt7cz4cFABgz3NZZ1zqen0GVJLIgItIajjnYmtFHyCKQVam5Ec9Cib3GjezAQ/132\",\"memberUrl\":\"http://www.wechat.com\",\"memberDomain\":\"wechat\",\"good\":0,\"bad\":0,\"police\":0,\"parentSeq\":37415154,\"directSeq\":0,\"shortUrl\":null,\"title\":\"Hello world!\",\"site\":\"http://www.santostang.com/2018/07/04/hello-world/\",\"email\":null,\"ipAddress\":\"117.172.54.224\",\"isMobile\":\"0\",\"agent\":\"Mozilla/5.0 (Windows NT 10.0; Win64; x64) AppleWebKit/537.36 (KHTML, like Gecko) Chrome/64.0.3282.140 Safari/537.36 Edge/17.17134\",\"septSns\":null,\"targetService\":null,\"targetUserName\":null,\"info1\":null,\"info2\":null,\"info3\":null,\"image1\":null,\"image2\":null,\"image3\":null,\"link1\":null,\"link2\":null,\"link3\":null,\"isSecret\":0,\"isModified\":0,\"confirm\":0,\"subCount\":0,\"regdate\":\"2019-04-08T15:19:16.000Z\",\"deletedDate\":null,\"file1\":null,\"file2\":null,\"file3\":null,\"additionalSeq\":0,\"content\":\"test\",\"quotationSeq\":null,\"quotationContent\":null,\"consumerSeq\":1020,\"livereSeq\":28583,\"repSeq\":4272904,\"memberGroupSeq\":30458496,\"memberSeq\":30987511,\"status\":0,\"repGroupSeq\":0,\"adminSeq\":25413747,\"deleteReason\":null,\"sticker\":0,\"version\":null},{\"replySeq\":37397641,\"name\":\"泪光\",\"memberId\":\"UID_7B123868E2C625371B30731190351B08\",\"memberIcon\":\"http://thirdqq.qlogo.cn/g?b=oidb&k=Hbax48dlnT9ewE0oflDjIQ&s=100\",\"memberUrl\":\"https://qq.com/\",\"memberDomain\":\"qq\",\"good\":0,\"bad\":0,\"police\":0,\"parentSeq\":37397641,\"directSeq\":0,\"shortUrl\":null,\"title\":\"Hello world!\",\"site\":\"http://www.santostang.com/2018/07/04/hello-world/\",\"email\":null,\"ipAddress\":\"117.182.79.178\",\"isMobile\":\"0\",\"agent\":\"Mozilla/5.0 (Windows NT 10.0; Win64; x64) AppleWebKit/537.36 (KHTML, like Gecko) Chrome/73.0.3683.86 Safari/537.36\",\"septSns\":null,\"targetService\":null,\"targetUserName\":null,\"info1\":null,\"info2\":null,\"info3\":null,\"image1\":null,\"image2\":null,\"image3\":null,\"link1\":null,\"link2\":null,\"link3\":null,\"isSecret\":0,\"isModified\":0,\"confirm\":0,\"subCount\":0,\"regdate\":\"2019-04-06T07:05:05.000Z\",\"deletedDate\":null,\"file1\":null,\"file2\":null,\"file3\":null,\"additionalSeq\":0,\"content\":\"hello\",\"quotationSeq\":null,\"quotationContent\":null,\"consumerSeq\":1020,\"livereSeq\":28583,\"repSeq\":4272904,\"memberGroupSeq\":30443962,\"memberSeq\":30972849,\"status\":0,\"repGroupSeq\":0,\"adminSeq\":25413747,\"deleteReason\":null,\"sticker\":0,\"version\":null}],\"children\":[{\"replySeq\":37901448,\"name\":\"David\",\"memberId\":\"554606000@qq.com\",\"memberIcon\":\"https://cdn-city.livere.com/images/user_profile_1.png\",\"memberUrl\":null,\"memberDomain\":\"livere\",\"good\":0,\"bad\":0,\"police\":0,\"parentSeq\":37573597,\"directSeq\":37573597,\"shortUrl\":null,\"title\":\"Hello world!\",\"site\":\"http://www.santostang.com/2018/07/04/hello-world/\",\"email\":null,\"ipAddress\":\"183.17.232.31\",\"isMobile\":\"0\",\"agent\":\"Mozilla/5.0 (Windows NT 6.1; WOW64) AppleWebKit/537.36 (KHTML, like Gecko) Chrome/49.0.2623.221 Safari/537.36 SE 2.X MetaSr 1.0\",\"septSns\":null,\"targetService\":null,\"targetUserName\":null,\"info1\":null,\"info2\":null,\"info3\":null,\"image1\":null,\"image2\":null,\"image3\":null,\"link1\":null,\"link2\":null,\"link3\":null,\"isSecret\":0,\"isModified\":0,\"confirm\":0,\"subCount\":0,\"regdate\":\"2019-06-07T14:52:07.000Z\",\"deletedDate\":null,\"file1\":null,\"file2\":null,\"file3\":null,\"additionalSeq\":0,\"content\":\"应该是python版本不同，改为('div',{'class':'hd’})试一下，若不行，再同时把find_all改为findAll\",\"quotationSeq\":null,\"quotationContent\":null,\"consumerSeq\":1020,\"livereSeq\":28583,\"repSeq\":4272904,\"memberGroupSeq\":0,\"memberSeq\":0,\"status\":0,\"repGroupSeq\":0,\"adminSeq\":25413747,\"deleteReason\":null,\"sticker\":0,\"version\":null},{\"replySeq\":37706505,\"name\":\"Qiuo\",\"memberId\":\"UID_B05EDB3B7E77540145AD7B345F244C7C\",\"memberIcon\":\"http://thirdqq.qlogo.cn/g?b=oidb&k=1leX7aeFfuhIuw8OTsmEdA&s=100\",\"memberUrl\":\"https://qq.com/\",\"memberDomain\":\"qq\",\"good\":0,\"bad\":0,\"police\":0,\"parentSeq\":37684295,\"directSeq\":37684295,\"shortUrl\":null,\"title\":\"Hello world!\",\"site\":\"http://www.santostang.com/2018/07/04/hello-world/\",\"email\":null,\"ipAddress\":\"211.103.115.57\",\"isMobile\":\"0\",\"agent\":\"Mozilla/5.0 (Windows NT 10.0; Win64; x64; rv:66.0) Gecko/20100101 Firefox/66.0\",\"septSns\":null,\"targetService\":null,\"targetUserName\":null,\"info1\":null,\"info2\":null,\"info3\":null,\"image1\":null,\"image2\":null,\"image3\":null,\"link1\":null,\"link2\":null,\"link3\":null,\"isSecret\":0,\"isModified\":0,\"confirm\":0,\"subCount\":0,\"regdate\":\"2019-05-15T06:29:57.000Z\",\"deletedDate\":null,\"file1\":null,\"file2\":null,\"file3\":null,\"additionalSeq\":0,\"content\":\"感觉是因为网速不够快没加载出来程序就提取了，应该让他睡几秒。\",\"quotationSeq\":null,\"quotationContent\":null,\"consumerSeq\":1020,\"livereSeq\":28583,\"repSeq\":4272904,\"memberGroupSeq\":30665001,\"memberSeq\":31196106,\"status\":0,\"repGroupSeq\":0,\"adminSeq\":25413747,\"deleteReason\":null,\"sticker\":0,\"version\":null},{\"replySeq\":37678628,\"name\":\"莫欣onlyou\",\"memberId\":\"oBVoaxN8pABv2N0ltkvqagxFGeyk\",\"memberIcon\":\"https://thirdwx.qlogo.cn/mmopen/vi_32/wkPZLaUb5TTuFZy2n11WKkpAGyV2kibZVYcGzRib8jr6UanjC9luBJx8xH63rvPZoIsM7bQV0mRpgzd6rhmOX4Ew/132\",\"memberUrl\":\"http://www.wechat.com\",\"memberDomain\":\"wechat\",\"good\":0,\"bad\":0,\"police\":0,\"parentSeq\":37503888,\"directSeq\":37588025,\"shortUrl\":null,\"title\":\"Hello world!\",\"site\":\"http://www.santostang.com/2018/07/04/hello-world/\",\"email\":null,\"ipAddress\":\"223.69.136.95\",\"isMobile\":\"0\",\"agent\":\"Mozilla/5.0 (Windows NT 10.0; Win64; x64) AppleWebKit/537.36 (KHTML, like Gecko) Chrome/74.0.3729.108 Safari/537.36\",\"septSns\":null,\"targetService\":null,\"targetUserName\":null,\"info1\":null,\"info2\":null,\"info3\":null,\"image1\":null,\"image2\":null,\"image3\":null,\"link1\":null,\"link2\":null,\"link3\":null,\"isSecret\":0,\"isModified\":0,\"confirm\":0,\"subCount\":0,\"regdate\":\"2019-05-11T11:51:41.000Z\",\"deletedDate\":null,\"file1\":null,\"file2\":null,\"file3\":null,\"additionalSeq\":0,\"content\":\"driver = webdriver.Chrome(executable_path = r'd:\\\\chromedriver.exe')\\n改这行代码，我的是谷歌浏览器驱动器的代码，不会改的话百度应该能搜到\",\"quotationSeq\":null,\"quotationContent\":null,\"consumerSeq\":1020,\"livereSeq\":28583,\"repSeq\":4272904,\"memberGroupSeq\":30665640,\"memberSeq\":31196753,\"status\":0,\"repGroupSeq\":0,\"adminSeq\":25413747,\"deleteReason\":null,\"sticker\":0,\"version\":null},{\"replySeq\":37678568,\"name\":\"莫欣onlyou\",\"memberId\":\"oBVoaxN8pABv2N0ltkvqagxFGeyk\",\"memberIcon\":\"https://thirdwx.qlogo.cn/mmopen/vi_32/wkPZLaUb5TTuFZy2n11WKkpAGyV2kibZVYcGzRib8jr6UanjC9luBJx8xH63rvPZoIsM7bQV0mRpgzd6rhmOX4Ew/132\",\"memberUrl\":\"http://www.wechat.com\",\"memberDomain\":\"wechat\",\"good\":0,\"bad\":0,\"police\":0,\"parentSeq\":37503888,\"directSeq\":37588025,\"shortUrl\":null,\"title\":\"Hello world!\",\"site\":\"http://www.santostang.com/2018/07/04/hello-world/\",\"email\":null,\"ipAddress\":\"223.69.136.95\",\"isMobile\":\"0\",\"agent\":\"Mozilla/5.0 (Windows NT 10.0; Win64; x64) AppleWebKit/537.36 (KHTML, like Gecko) Chrome/74.0.3729.108 Safari/537.36\",\"septSns\":null,\"targetService\":null,\"targetUserName\":null,\"info1\":null,\"info2\":null,\"info3\":null,\"image1\":null,\"image2\":null,\"image3\":null,\"link1\":null,\"link2\":null,\"link3\":null,\"isSecret\":0,\"isModified\":0,\"confirm\":0,\"subCount\":0,\"regdate\":\"2019-05-11T11:39:55.000Z\",\"deletedDate\":null,\"file1\":null,\"file2\":null,\"file3\":null,\"additionalSeq\":0,\"content\":\"看你用的什么浏览器，跟你电脑关系不大。我没用过mac，除了谷歌，火狐和IE其他的浏览器驱动器我都不知道，你可以自己百度\",\"quotationSeq\":null,\"quotationContent\":null,\"consumerSeq\":1020,\"livereSeq\":28583,\"repSeq\":4272904,\"memberGroupSeq\":30665640,\"memberSeq\":31196753,\"status\":0,\"repGroupSeq\":0,\"adminSeq\":25413747,\"deleteReason\":null,\"sticker\":0,\"version\":null},{\"replySeq\":37678000,\"name\":\"Qiuo\",\"memberId\":\"UID_B05EDB3B7E77540145AD7B345F244C7C\",\"memberIcon\":\"http://thirdqq.qlogo.cn/g?b=oidb&k=1leX7aeFfuhIuw8OTsmEdA&s=100\",\"memberUrl\":\"https://qq.com/\",\"memberDomain\":\"qq\",\"good\":0,\"bad\":0,\"police\":0,\"parentSeq\":37573597,\"directSeq\":37573597,\"shortUrl\":null,\"title\":\"Hello world!\",\"site\":\"http://www.santostang.com/2018/07/04/hello-world/\",\"email\":null,\"ipAddress\":\"211.103.115.57\",\"isMobile\":\"0\",\"agent\":\"Mozilla/5.0 (Windows NT 10.0; Win64; x64) AppleWebKit/537.36 (KHTML, like Gecko) Chrome/74.0.3729.131 Safari/537.36\",\"septSns\":null,\"targetService\":null,\"targetUserName\":null,\"info1\":null,\"info2\":null,\"info3\":null,\"image1\":null,\"image2\":null,\"image3\":null,\"link1\":null,\"link2\":null,\"link3\":null,\"isSecret\":0,\"isModified\":0,\"confirm\":0,\"subCount\":0,\"regdate\":\"2019-05-11T09:02:16.000Z\",\"deletedDate\":null,\"file1\":null,\"file2\":null,\"file3\":null,\"additionalSeq\":0,\"content\":\"class_  偷偷告诉你后面有符号_ 哈哈哈。\",\"quotationSeq\":null,\"quotationContent\":null,\"consumerSeq\":1020,\"livereSeq\":28583,\"repSeq\":4272904,\"memberGroupSeq\":30665001,\"memberSeq\":31196106,\"status\":0,\"repGroupSeq\":0,\"adminSeq\":25413747,\"deleteReason\":null,\"sticker\":0,\"version\":null},{\"replySeq\":37588025,\"name\":\"杨崇武\",\"memberId\":\"oBVoaxPXf2IudyRhAW_uPszsISXo\",\"memberIcon\":\"http://thirdwx.qlogo.cn/mmopen/vi_32/Q0j4TwGTfTLevUE3gfUicnvOFHLlbXC1GWfibsAGibADgpAwpKPiclfYeS69RpJLokCBfYnVcoBzFR6VTuGWafcqwg/132\",\"memberUrl\":\"http://www.wechat.com\",\"memberDomain\":\"wechat\",\"good\":0,\"bad\":0,\"police\":0,\"parentSeq\":37503888,\"directSeq\":37536841,\"shortUrl\":null,\"title\":\"Hello world!\",\"site\":\"http://www.santostang.com/2018/07/04/hello-world/\",\"email\":null,\"ipAddress\":\"221.218.214.189\",\"isMobile\":\"0\",\"agent\":\"Mozilla/5.0 (Macintosh; Intel Mac OS X 10_11_6) AppleWebKit/537.36 (KHTML, like Gecko) Chrome/72.0.3626.109 Safari/537.36\",\"septSns\":null,\"targetService\":null,\"targetUserName\":null,\"info1\":null,\"info2\":null,\"info3\":null,\"image1\":null,\"image2\":null,\"image3\":null,\"link1\":null,\"link2\":null,\"link3\":null,\"isSecret\":0,\"isModified\":0,\"confirm\":0,\"subCount\":2,\"regdate\":\"2019-04-30T06:49:06.000Z\",\"deletedDate\":null,\"file1\":null,\"file2\":null,\"file3\":null,\"additionalSeq\":0,\"content\":\"mac的驱动文件放在哪个地方？\",\"quotationSeq\":null,\"quotationContent\":null,\"consumerSeq\":1020,\"livereSeq\":28583,\"repSeq\":4272904,\"memberGroupSeq\":30584697,\"memberSeq\":31114944,\"status\":0,\"repGroupSeq\":0,\"adminSeq\":25413747,\"deleteReason\":null,\"sticker\":0,\"version\":null},{\"replySeq\":37588019,\"name\":\"杨崇武\",\"memberId\":\"oBVoaxPXf2IudyRhAW_uPszsISXo\",\"memberIcon\":\"http://thirdwx.qlogo.cn/mmopen/vi_32/Q0j4TwGTfTLevUE3gfUicnvOFHLlbXC1GWfibsAGibADgpAwpKPiclfYeS69RpJLokCBfYnVcoBzFR6VTuGWafcqwg/132\",\"memberUrl\":\"http://www.wechat.com\",\"memberDomain\":\"wechat\",\"good\":0,\"bad\":0,\"police\":0,\"parentSeq\":37573597,\"directSeq\":37577083,\"shortUrl\":null,\"title\":\"Hello world!\",\"site\":\"http://www.santostang.com/2018/07/04/hello-world/\",\"email\":null,\"ipAddress\":\"221.218.214.189\",\"isMobile\":\"0\",\"agent\":\"Mozilla/5.0 (Macintosh; Intel Mac OS X 10_11_6) AppleWebKit/537.36 (KHTML, like Gecko) Chrome/72.0.3626.109 Safari/537.36\",\"septSns\":null,\"targetService\":null,\"targetUserName\":null,\"info1\":null,\"info2\":null,\"info3\":null,\"image1\":null,\"image2\":null,\"image3\":null,\"link1\":null,\"link2\":null,\"link3\":null,\"isSecret\":0,\"isModified\":0,\"confirm\":0,\"subCount\":0,\"regdate\":\"2019-04-30T06:48:30.000Z\",\"deletedDate\":null,\"file1\":null,\"file2\":null,\"file3\":null,\"additionalSeq\":0,\"content\":\"改完之后还是不行呀，提示   ：name 'movie_list' is not defined\\n对照好几次，没发现原因\",\"quotationSeq\":null,\"quotationContent\":null,\"consumerSeq\":1020,\"livereSeq\":28583,\"repSeq\":4272904,\"memberGroupSeq\":30584697,\"memberSeq\":31114944,\"status\":0,\"repGroupSeq\":0,\"adminSeq\":25413747,\"deleteReason\":null,\"sticker\":0,\"version\":null},{\"replySeq\":37587851,\"name\":\"YESIR\",\"memberId\":\"1115436724@qq.com\",\"memberIcon\":\"https://cdn-city.livere.com/images/user_profile_1.png\",\"memberUrl\":null,\"memberDomain\":\"livere\",\"good\":0,\"bad\":0,\"police\":0,\"parentSeq\":37580285,\"directSeq\":37580285,\"shortUrl\":null,\"title\":\"Hello world!\",\"site\":\"http://www.santostang.com/2018/07/04/hello-world/\",\"email\":null,\"ipAddress\":\"110.87.89.111\",\"isMobile\":\"0\",\"agent\":\"Mozilla/5.0 (Windows NT 6.1; rv:66.0) Gecko/20100101 Firefox/66.0\",\"septSns\":null,\"targetService\":null,\"targetUserName\":null,\"info1\":null,\"info2\":null,\"info3\":null,\"image1\":null,\"image2\":null,\"image3\":null,\"link1\":null,\"link2\":null,\"link3\":null,\"isSecret\":0,\"isModified\":0,\"confirm\":0,\"subCount\":0,\"regdate\":\"2019-04-30T06:32:08.000Z\",\"deletedDate\":null,\"file1\":null,\"file2\":null,\"file3\":null,\"additionalSeq\":0,\"content\":\"h1标签不是hi标签。你查hi下面他就提示你找不到a标签\",\"quotationSeq\":null,\"quotationContent\":null,\"consumerSeq\":1020,\"livereSeq\":28583,\"repSeq\":4272904,\"memberGroupSeq\":0,\"memberSeq\":0,\"status\":0,\"repGroupSeq\":0,\"adminSeq\":25413747,\"deleteReason\":null,\"sticker\":0,\"version\":null},{\"replySeq\":37587596,\"name\":\"杨崇武\",\"memberId\":\"oBVoaxPXf2IudyRhAW_uPszsISXo\",\"memberIcon\":\"http://thirdwx.qlogo.cn/mmopen/vi_32/Q0j4TwGTfTLevUE3gfUicnvOFHLlbXC1GWfibsAGibADgpAwpKPiclfYeS69RpJLokCBfYnVcoBzFR6VTuGWafcqwg/132\",\"memberUrl\":\"http://www.wechat.com\",\"memberDomain\":\"wechat\",\"good\":0,\"bad\":0,\"police\":0,\"parentSeq\":37573597,\"directSeq\":37577083,\"shortUrl\":null,\"title\":\"Hello world!\",\"site\":\"http://www.santostang.com/2018/07/04/hello-world/\",\"email\":null,\"ipAddress\":\"221.218.214.189\",\"isMobile\":\"0\",\"agent\":\"Mozilla/5.0 (Macintosh; Intel Mac OS X 10_11_6) AppleWebKit/537.36 (KHTML, like Gecko) Chrome/72.0.3626.109 Safari/537.36\",\"septSns\":null,\"targetService\":null,\"targetUserName\":null,\"info1\":null,\"info2\":null,\"info3\":null,\"image1\":null,\"image2\":null,\"image3\":null,\"link1\":null,\"link2\":null,\"link3\":null,\"isSecret\":0,\"isModified\":0,\"confirm\":0,\"subCount\":0,\"regdate\":\"2019-04-30T06:10:59.000Z\",\"deletedDate\":null,\"file1\":null,\"file2\":null,\"file3\":null,\"additionalSeq\":0,\"content\":\"嗯，好的。谢谢\",\"quotationSeq\":null,\"quotationContent\":null,\"consumerSeq\":1020,\"livereSeq\":28583,\"repSeq\":4272904,\"memberGroupSeq\":30584697,\"memberSeq\":31114944,\"status\":0,\"repGroupSeq\":0,\"adminSeq\":25413747,\"deleteReason\":null,\"sticker\":0,\"version\":null},{\"replySeq\":37577083,\"name\":\"xxx\",\"memberId\":\"842217726@qq.com\",\"memberIcon\":\"https://cdn-city.livere.com/images/user_profile_1.png\",\"memberUrl\":null,\"memberDomain\":\"livere\",\"good\":1,\"bad\":0,\"police\":0,\"parentSeq\":37573597,\"directSeq\":37573597,\"shortUrl\":null,\"title\":\"Hello world!\",\"site\":\"http://www.santostang.com/2018/07/04/hello-world/\",\"email\":null,\"ipAddress\":\"101.198.192.11\",\"isMobile\":\"0\",\"agent\":\"Mozilla/5.0 (Macintosh; Intel Mac OS X 10_14_4) AppleWebKit/537.36 (KHTML, like Gecko) Chrome/73.0.3683.103 Safari/537.36\",\"septSns\":null,\"targetService\":null,\"targetUserName\":null,\"info1\":null,\"info2\":null,\"info3\":null,\"image1\":null,\"image2\":null,\"image3\":null,\"link1\":null,\"link2\":null,\"link3\":null,\"isSecret\":0,\"isModified\":0,\"confirm\":0,\"subCount\":2,\"regdate\":\"2019-04-29T08:01:12.000Z\",\"deletedDate\":null,\"file1\":null,\"file2\":null,\"file3\":null,\"additionalSeq\":0,\"content\":\"不是class='hd',而是class_='hd'\",\"quotationSeq\":null,\"quotationContent\":null,\"consumerSeq\":1020,\"livereSeq\":28583,\"repSeq\":4272904,\"memberGroupSeq\":0,\"memberSeq\":0,\"status\":0,\"repGroupSeq\":0,\"adminSeq\":25413747,\"deleteReason\":null,\"sticker\":0,\"version\":null},{\"replySeq\":37536841,\"name\":\"莫欣onlyou\",\"memberId\":\"2360211599@qq.com\",\"memberIcon\":\"https://cdn-city.livere.com/images/user_profile_1.png\",\"memberUrl\":null,\"memberDomain\":\"livere\",\"good\":1,\"bad\":0,\"police\":0,\"parentSeq\":37503888,\"directSeq\":37503888,\"shortUrl\":null,\"title\":\"Hello world!\",\"site\":\"http://www.santostang.com/2018/07/04/hello-world/\",\"email\":null,\"ipAddress\":\"106.38.29.52\",\"isMobile\":\"0\",\"agent\":\"Mozilla/5.0 (Windows NT 10.0; Win64; x64) AppleWebKit/537.36 (KHTML, like Gecko) Chrome/69.0.3497.92 Safari/537.36\",\"septSns\":null,\"targetService\":null,\"targetUserName\":null,\"info1\":null,\"info2\":null,\"info3\":null,\"image1\":null,\"image2\":null,\"image3\":null,\"link1\":null,\"link2\":null,\"link3\":null,\"isSecret\":0,\"isModified\":0,\"confirm\":0,\"subCount\":1,\"regdate\":\"2019-04-24T13:10:00.000Z\",\"deletedDate\":null,\"file1\":null,\"file2\":null,\"file3\":null,\"additionalSeq\":0,\"content\":\"不同浏览器所需的驱动器也不一样，https://www.cnblogs.com/nancyzhu/p/8589764.html 这是我百度到的博客，你可以参考一下，我的是谷歌浏览器，作者的是火狐浏览器，不同驱动器要下载的驱动文件是不一样的\",\"quotationSeq\":null,\"quotationContent\":null,\"consumerSeq\":1020,\"livereSeq\":28583,\"repSeq\":4272904,\"memberGroupSeq\":0,\"memberSeq\":0,\"status\":0,\"repGroupSeq\":0,\"adminSeq\":25413747,\"deleteReason\":null,\"sticker\":0,\"version\":null}],\"quotations\":[]},\"resultCode\":200,\"resultMessage\":\"Okay, livere\"});\n"
     ]
    }
   ],
   "source": [
    "import requests\n",
    "import json\n",
    "\n",
    "link = 'https://api-zero.livere.com/v1/comments/list?callback=jQuery11240178955723632786_1561587436044&limit=10&repSeq=4272904&requestPath=/v1/comments/list&consumerSeq=1020&livereSeq=28583&smartloginSeq=5154&_=1561587436046'\n",
    "headers = {'User-Agent': 'Mozilla/5.0 (Windows NT 10.0; Win64; x64; rv:67.0) Gecko/20100101 Firefox/67.0'}\n",
    "r = requests.get(link,headers=headers)\n",
    "print(r.text)\n"
   ]
  },
  {
   "cell_type": "code",
   "execution_count": 25,
   "metadata": {},
   "outputs": [
    {
     "name": "stdout",
     "output_type": "stream",
     "text": [
      "简直有毒，这段代码有时候可以执行，有时候又失效了\n",
      "from selenium import webdriver\n",
      "driver = webdriver.Firefox(executable_path = r'C:/Users/Administrator/Desktop/geckodriver.exe')\n",
      "driver.get('http://www.santostang.com/2018/07/04/hello-world/')\n",
      "driver.switch_to.frame(driver.find_element_by_css_selector(\"iframe[title='livere']\"))\n",
      "comment = driver.find_element_by_css_selector('div.reply-content')\n",
      "content = comment.find_element_by_tag_name('p')\n",
      "print (content.text)\n",
      "捣鼓了半天，终于把4.3弄出来了。有一些经验分享一下：（主要是第一个的问题，搞了很久，安装卸载程序好几次）\n",
      "一个是Firefox的版本和Selenium的版本的问题。我最后安装的是Firefox的v55，然后Selenium装的是v3.5.0，因此geckodriver的版本也不是最新版（这个可以去它的官网上看，会说明适用什么版本的），这样就不会出现老师所说的还要补充自己电脑中geckodriver.exe程序的地址的步骤（我觉得这样会方便一点）。其实各个版本的对应关系还有很多，大家可以百度哈（我都是各种百度后解决的）\n",
      "二是4.3中for循环中，有一行忘记缩进了（这个很明显哈，大家看到就知道了）\n",
      "谢谢老师，开始学习\n",
      "你好，请问为什么我使用书上第2章的爬虫代码时报错？能指导一下吗？我实在不明白soup.find().a.text.strip()中的a是什么意思。\n",
      "你好，在做第三章爬取豆瓣top250电影时，提示：div_list = soup.find_all('div', class = 'hd')   这行代码语法错误。是因为class的原因吗？ 麻烦有时间指导一下，谢谢。\n",
      "我遇到问题了，出现Webdrrive error,不知道怎么解决\n",
      "正在学到第四章动态网页爬取。json解析部分。有没有一起学习讨论下的，感觉这部分开始有点难啦。有的加个好友，QQ：656742781\n",
      "来啦\n",
      "test\n",
      "hello\n"
     ]
    }
   ],
   "source": [
    "# 获取 json string\n",
    "json_str =r.text\n",
    "json_str=json_str[json_str.find('{'):-2] #从{ 左边第二个开始提取\n",
    "\n",
    "json_data = json.loads(json_str)  \n",
    "comment_list =json_data['results']['parents']\n",
    "\n",
    "for each in comment_list:\n",
    "    message = each['content']\n",
    "    print(message)"
   ]
  },
  {
   "cell_type": "code",
   "execution_count": 53,
   "metadata": {},
   "outputs": [
    {
     "data": {
      "text/plain": [
       "['简直有毒，这段代码有时候可以执行，有时候又失效了\\nfrom selenium import webdriver\\ndriver = webdriver.Firefox(executable_path = r\\'C:/Users/Administrator/Desktop/geckodriver.exe\\')\\ndriver.get(\\'http://www.santostang.com/2018/07/04/hello-world/\\')\\ndriver.switch_to.frame(driver.find_element_by_css_selector(\"iframe[title=\\'livere\\']\"))\\ncomment = driver.find_element_by_css_selector(\\'div.reply-content\\')\\ncontent = comment.find_element_by_tag_name(\\'p\\')\\nprint (content.text)',\n",
       " '捣鼓了半天，终于把4.3弄出来了。有一些经验分享一下：（主要是第一个的问题，搞了很久，安装卸载程序好几次）\\n一个是Firefox的版本和Selenium的版本的问题。我最后安装的是Firefox的v55，然后Selenium装的是v3.5.0，因此geckodriver的版本也不是最新版（这个可以去它的官网上看，会说明适用什么版本的），这样就不会出现老师所说的还要补充自己电脑中geckodriver.exe程序的地址的步骤（我觉得这样会方便一点）。其实各个版本的对应关系还有很多，大家可以百度哈（我都是各种百度后解决的）\\n二是4.3中for循环中，有一行忘记缩进了（这个很明显哈，大家看到就知道了）',\n",
       " '谢谢老师，开始学习',\n",
       " '你好，请问为什么我使用书上第2章的爬虫代码时报错？能指导一下吗？我实在不明白soup.find().a.text.strip()中的a是什么意思。',\n",
       " \"你好，在做第三章爬取豆瓣top250电影时，提示：div_list = soup.find_all('div', class = 'hd')   这行代码语法错误。是因为class的原因吗？ 麻烦有时间指导一下，谢谢。\",\n",
       " '我遇到问题了，出现Webdrrive error,不知道怎么解决',\n",
       " '正在学到第四章动态网页爬取。json解析部分。有没有一起学习讨论下的，感觉这部分开始有点难啦。有的加个好友，QQ：656742781',\n",
       " '来啦',\n",
       " 'test',\n",
       " 'hello',\n",
       " '我要做第一条评论',\n",
       " 'hi',\n",
       " 'dlutzmz',\n",
       " '1',\n",
       " '11',\n",
       " 'hello world',\n",
       " '111111',\n",
       " 'hello',\n",
       " '测试',\n",
       " 'hello thank you',\n",
       " '爬取所有的评论代码\\n\\n\\nimport requests\\nimport json\\n\\nurl = \"https://api-zero.livere.com/v1/comments/list?callback=jQuery112406379165795651072_1552402149829&limit=10&offset={}&repSeq=4272904&requestPath=%2Fv1%2Fcomments%2Flist&consumerSeq=1020&livereSeq=28583&smartloginSeq=5154&_=1552402149837 \"\\ncomment_list = []\\npage = 1\\nwhile True:\\n    rawtext = requests.get(url=url.format(page)).text\\n    dicts = json.loads(rawtext[rawtext.find(\"{\"):-2])\\n    comments_dict = dicts.get(\"results\").get(\"parents\")\\n    if len(comments_dict):\\n        for comments in comments_dict:\\n            comment_list.append(comments.get(\"content\"))\\n        page += 1\\n    else:\\n        break\\nprint(\"一共抓取到评论%d条\" % len(comment_list))\\nprint(comment_list)',\n",
       " '测试~ :hushed:',\n",
       " '小毅来此测试：这是一条测试',\n",
       " '阿罗哈',\n",
       " 'hi',\n",
       " 'test 2019.02.26',\n",
       " 'hhhh',\n",
       " '这个 网站为何时而能访问，时而不能访问。是网络长城的原因吗？？',\n",
       " '好困呀！！一闭上眼睛就能睡着',\n",
       " '啊',\n",
       " ':smile:',\n",
       " 'test 2019-02-08',\n",
       " 'test 2019.2.2',\n",
       " '2019.1.29 测试评论，谢谢博主',\n",
       " 'import json\\nimport requests\\nheaders = {\\'User-Agent\\':\\'Mozilla/5.0 (Windows; U; Windows NT 6.1; en-US; rv:1.9.1.6) Gecko/20091201 Firefox/3.5.6\\'}\\nfor i in range(1,10):\\n    url_0 = \"https://api-zero.livere.com/v1/comments/list?callback=jQuery112408735667349062561_1548686253792&limit=10&offset={}&repSeq=4272904&requestPath=%2Fv1%2Fcomments%2Flist&consumerSeq=1020&livereSeq=28583&smartloginSeq=5154&_=1548686253797\".format(i)\\n    r = requests.get(url_0,headers = headers)\\n    json_string = r.text\\n    json_string = json_string[json_string.find(\\'{\\'):-2]\\n    json_data = json.loads(json_string)\\n    comment_list = json_data[\\'results\\'][\\'parents\\']\\n    for eachone in comment_list:\\n        message = eachone[\\'content\\']\\n        print (message)',\n",
       " '好累啊',\n",
       " '能加好友一起学习吗，qq二路久咦咦咦一',\n",
       " '2019.1.25  微腾大大的一条测试 nice',\n",
       " '2019.1.25',\n",
       " '123456',\n",
       " '19.01.17',\n",
       " '2019-1-10 来子李雷的留言测试',\n",
       " '还是有问题啊 网页打不开啊',\n",
       " 'test12345',\n",
       " '6666',\n",
       " 'ooo',\n",
       " '我来评论一下',\n",
       " '这是一条测试评论',\n",
       " '这是一条测试评论',\n",
       " 'csass',\n",
       " '这是一条测试评论',\n",
       " '熊猫的评论 是第58条',\n",
       " '评论试试啊 :smiley:',\n",
       " '121212',\n",
       " '1212',\n",
       " 'chrom反应慢，看得见这些评论，我就是用的chrom,还有4.3.1，没有按照唐大师说的，只要下载好解压到scripts中，就可以了，按照网上其他帖子可以打开firefox浏览器',\n",
       " 'wordpress怎样用啊',\n",
       " '4.1 动态网页抓取 (解析真实地址 + selenium)  链接失效了',\n",
       " '刘一凡',\n",
       " '后边的学习不了了吗',\n",
       " '为什么用Chrome就看不见这些评论啊',\n",
       " '我发现只要点4.1 4.2 就炸',\n",
       " '崩了？',\n",
       " '为啥就是不能加载更多啊！！！都两天了！！！',\n",
       " '666',\n",
       " '余大大',\n",
       " '坚持',\n",
       " '255',\n",
       " 'nice to meet you',\n",
       " 'lla',\n",
       " '点赞！',\n",
       " 'test',\n",
       " '测试终止',\n",
       " '测试测试1212！',\n",
       " '测试',\n",
       " '测试凭证',\n",
       " '11',\n",
       " '测试',\n",
       " '有这本书的学习交流群吗？',\n",
       " '第四章问题好多，代码各种错误，求更新',\n",
       " '测试',\n",
       " '学习一下',\n",
       " '读者吴先生到此一游。',\n",
       " '第21条测试评论',\n",
       " '第20条测试评论',\n",
       " '第19条测试评论',\n",
       " '第18条测试评论',\n",
       " '第17条测试评论',\n",
       " '第16条测试评论',\n",
       " '第15条测试评论',\n",
       " '第14条测试评论',\n",
       " '第13条测试评论',\n",
       " '第12条测试评论',\n",
       " '第11条测试评论',\n",
       " '第10条测试评论',\n",
       " '第9条测试评论',\n",
       " '第8条测试评论',\n",
       " '第7条测试评论',\n",
       " '第6条测试评论',\n",
       " '第5条测试评论',\n",
       " '第四条测试评论',\n",
       " '第三条测试评论',\n",
       " '第二条测试评论',\n",
       " '第四章代码很多敲不出来啊 求更新',\n",
       " '但是我把链接改成这个\\nhttp://www.santostang.com/2018/07/04/hello-world/\\n也只是打开浏览器,没有进入到页面,地址栏也没有地址啊',\n",
       " '书中Hello world中的链接已经失效，新的Hello world 中没有评论，怎么测试呢？',\n",
       " '4.3.1Selenium的安装与基本介绍\\n按照您书上的方法配置好环境,用过Anaconda和IDLE运行,都是能打开FireFox浏览器,但没有页面是FireFox的\"新标签页\",一会儿后浏览器自动关闭,并报如下错:\\n--------------------\\nrunfile(\\'F:/python3/Anaconda_3.py\\', wdir=\\'F:/python3\\')\\nTraceback (most recent call last):\\n\\n  File \"\", line 1, in \\n    runfile(\\'F:/python3/Anaconda_3.py\\', wdir=\\'F:/python3\\')\\n\\n  File \"D:\\\\Program Files\\\\Anaconda3\\\\lib\\\\site-packages\\\\spyder\\\\utils\\\\site\\\\sitecustomize.py\", line 705, in runfile\\n    execfile(filename, namespace)\\n\\n  File \"D:\\\\Program Files\\\\Anaconda3\\\\lib\\\\site-packages\\\\spyder\\\\utils\\\\site\\\\sitecustomize.py\", line 102, in execfile\\n    exec(compile(f.read(), filename, \\'exec\\'), namespace)\\n\\n  File \"F:/python3/Anaconda_3.py\", line 15, in \\n    driver = webdriver.Firefox(firefox_binary = binary, capabilities = caps)\\n\\n  File \"D:\\\\Program Files\\\\Anaconda3\\\\lib\\\\site-packages\\\\selenium\\\\webdriver\\\\firefox\\\\webdriver.py\", line 187, in __init__\\n    self.binary, timeout)\\n\\n  File \"D:\\\\Program Files\\\\Anaconda3\\\\lib\\\\site-packages\\\\selenium\\\\webdriver\\\\firefox\\\\extension_connection.py\", line 52, in __init__\\n    self.binary.launch_browser(self.profile, timeout=timeout)\\n\\n  File \"D:\\\\Program Files\\\\Anaconda3\\\\lib\\\\site-packages\\\\selenium\\\\webdriver\\\\firefox\\\\firefox_binary.py\", line 73, in launch_browser\\n    self._wait_until_connectable(timeout=timeout)\\n\\n  File \"D:\\\\Program Files\\\\Anaconda3\\\\lib\\\\site-packages\\\\selenium\\\\webdriver\\\\firefox\\\\firefox_binary.py\", line 114, in _wait_until_connectable\\n    % (self.profile.path))\\n\\nWebDriverException: Can\\'t load the profile. Possible firefox version mismatch. You must use GeckoDriver instead for Firefox 48+. Profile Dir: C:\\\\Users\\\\杨俊明\\\\AppData\\\\Local\\\\Temp\\\\tmpd2ot_af7 If you specified a log_file in the FirefoxBinary constructor, check it for details.\\n--------------------\\n希望您能尽快解决一下\\n还有就是有能出Chrome浏览器的教程(仅仅是这一节)吗',\n",
       " '第一个评论']"
      ]
     },
     "execution_count": 53,
     "metadata": {},
     "output_type": "execute_result"
    }
   ],
   "source": [
    "def single_page_comment():\n",
    "    message =[]\n",
    "    #the only difference between links is offset\n",
    "    for page in range(1,20):\n",
    "        link1 =  'https://api-zero.livere.com/v1/comments/list?callback=jQuery11240178955723632786_1561587436044&limit=10&offset='\n",
    "        link2 = '&repSeq=4272904&requestPath=/v1/comments/list&consumerSeq=1020&livereSeq=28583&smartloginSeq=5154&_=1561587436046'\n",
    "        page_str = str(page)\n",
    "        link = link1 + page_str + link2\n",
    "\n",
    "        headers = {'User-Agent': 'Mozilla/5.0 (Windows NT 10.0; Win64; x64; rv:67.0) Gecko/20100101 Firefox/67.0'}\n",
    "        r = requests.get(link,headers=headers)\n",
    "        json_str =r.text\n",
    "        json_str=json_str[json_str.find('{'):-2] #从{ 左边第二个开始提取\n",
    "\n",
    "        json_data = json.loads(json_str)  \n",
    "        comment_list =json_data['results']['parents']\n",
    "\n",
    "        for each in comment_list:\n",
    "            message.append(each['content'])\n",
    "    return message\n",
    "            \n",
    "single_page_comment()"
   ]
  },
  {
   "cell_type": "markdown",
   "metadata": {},
   "source": [
    "## 通过 selenium 模拟浏览器抓取"
   ]
  },
  {
   "cell_type": "code",
   "execution_count": 3,
   "metadata": {},
   "outputs": [],
   "source": [
    "from selenium import webdriver\n",
    "driver = webdriver.Firefox()\n",
    "driver.get('http://www.santostang.com/2018/07/04/hello-world/')\n"
   ]
  },
  {
   "cell_type": "code",
   "execution_count": 6,
   "metadata": {
    "scrolled": true
   },
   "outputs": [
    {
     "name": "stdout",
     "output_type": "stream",
     "text": [
      "简直有毒，这段代码有时候可以执行，有时候又失效了\n",
      "from selenium import webdriver\n",
      "driver = webdriver.Firefox(executable_path = r'C:/Users/Administrator/Desktop/geckodriver.exe')\n",
      "driver.get('http://www.santostang.com/2018/07/04/hello-world/')\n",
      "driver.switch_to.frame(driver.find_element_by_css_selector(\"iframe[title='livere']\"))\n",
      "comment = driver.find_element_by_css_selector('div.reply-content')\n",
      "content = comment.find_element_by_tag_name('p')\n",
      "print (content.text)\n"
     ]
    }
   ],
   "source": [
    "# get the first comment \n",
    "comment = driver.find_element_by_css_selector('div.reply-content')\n",
    "content = comment.find_element_by_tag_name('p')\n",
    "print (content.text) "
   ]
  },
  {
   "cell_type": "code",
   "execution_count": 14,
   "metadata": {},
   "outputs": [
    {
     "name": "stdout",
     "output_type": "stream",
     "text": [
      "简直有毒，这段代码有时候可以执行，有时候又失效了\n",
      "from selenium import webdriver\n",
      "driver = webdriver.Firefox(executable_path = r'C:/Users/Administrator/Desktop/geckodriver.exe')\n",
      "driver.get('http://www.santostang.com/2018/07/04/hello-world/')\n",
      "driver.switch_to.frame(driver.find_element_by_css_selector(\"iframe[title='livere']\"))\n",
      "comment = driver.find_element_by_css_selector('div.reply-content')\n",
      "content = comment.find_element_by_tag_name('p')\n",
      "print (content.text)\n",
      "@风宇者 感觉是因为网速不够快没加载出来程序就提取了，应该让他睡几秒。\n",
      "捣鼓了半天，终于把4.3弄出来了。有一些经验分享一下：（主要是第一个的问题，搞了很久，安装卸载程序好几次）\n",
      "一个是Firefox的版本和Selenium的版本的问题。我最后安装的是Firefox的v55，然后Selenium装的是v3.5.0，因此geckodriver的版本也不是最新版（这个可以去它的官网上看，会说明适用什么版本的），这样就不会出现老师所说的还要补充自己电脑中geckodriver.exe程序的地址的步骤（我觉得这样会方便一点）。其实各个版本的对应关系还有很多，大家可以百度哈（我都是各种百度后解决的）\n",
      "二是4.3中for循环中，有一行忘记缩进了（这个很明显哈，大家看到就知道了）\n",
      "谢谢老师，开始学习\n",
      "你好，请问为什么我使用书上第2章的爬虫代码时报错？能指导一下吗？我实在不明白soup.find().a.text.strip()中的a是什么意思。\n",
      "@　Burning h1标签不是hi标签。你查hi下面他就提示你找不到a标签\n",
      "你好，在做第三章爬取豆瓣top250电影时，提示：div_list = soup.find_all('div', class = 'hd') 这行代码语法错误。是因为class的原因吗？ 麻烦有时间指导一下，谢谢。\n",
      "@杨崇武 应该是python版本不同，改为('div',{'class':'hd’})试一下，若不行，再同时把find_all改为findAll\n",
      "\n",
      "\n",
      "\n",
      "\n",
      "我遇到问题了，出现Webdrrive error,不知道怎么解决\n",
      "@NO NICKNAME 不同浏览器所需的驱动器也不一样，https://www.cnblogs.com/nancyzhu/p/8589764.html 这是我百度到的博客，你可以参考一下，我的是谷歌浏览器，作者的是火狐浏览器，不同驱动器要下载的驱动文件是不一样的\n",
      "\n",
      "\n",
      "\n",
      "正在学到第四章动态网页爬取。json解析部分。有没有一起学习讨论下的，感觉这部分开始有点难啦。有的加个好友，QQ：656742781\n",
      "来啦\n",
      "test\n",
      "hello\n"
     ]
    }
   ],
   "source": [
    "import time \n",
    "from selenium import webdriver\n",
    "driver = webdriver.Firefox()\n",
    "driver.get('http://www.santostang.com/2018/07/04/hello-world/')\n",
    "driver.implicitly_wait(60)\n",
    "time.sleep(5)\n",
    "\n",
    "for i in range(0,5):\n",
    "    # 下滑到页面底部\n",
    "    driver.execute_script(\"window.scrollTo(0, document.body.scrollHeight);\")\n",
    "    #转换iframe，找到【查找更多】，点击\n",
    "    driver.switch_to.frame(driver.find_element_by_css_selector(\"iframe[title='livere']\"))\n",
    "    load_more = driver.find_element_by_css_selector('button.more-btn')\n",
    "    # 把iframe 转回去\n",
    "    driver.switch_to.default_content()\n",
    "    time.sleep(2)\n",
    "    \n",
    "driver.switch_to.frame(driver.find_element_by_css_selector(\"iframe[title='livere']\"))\n",
    "comments= driver.find_elements_by_css_selector('div.reply-content')\n",
    "for each in comments:\n",
    "    content = each.find_element_by_tag_name('p')\n",
    "    print(content.text)"
   ]
  },
  {
   "cell_type": "code",
   "execution_count": null,
   "metadata": {},
   "outputs": [],
   "source": [
    "\"\"\"\n",
    "控制selenium 抓取的速度：\n",
    "- 控制 css 的加载\n",
    "- 控制图片显示\n",
    "- 控制 js 的运行\n",
    "\"\"\""
   ]
  },
  {
   "cell_type": "code",
   "execution_count": null,
   "metadata": {},
   "outputs": [],
   "source": [
    "# 控制 css 加载\n",
    "fp = webdriver.FirefoxProfile()\n",
    "fp.set_preference('permissions.default.stylesheet',2)\n",
    "# 控制图片显示\n",
    "fp.set_preference('permissions.default.image',2)\n",
    "# 控制 js 的运行\n",
    "fp.set_preference('javascript.enabled',False)\n",
    "\n",
    "driver = webdriver.Firefox(firefox_profile=fp)"
   ]
  },
  {
   "cell_type": "code",
   "execution_count": 38,
   "metadata": {},
   "outputs": [
    {
     "name": "stdout",
     "output_type": "stream",
     "text": [
      "testetste\n"
     ]
    },
    {
     "data": {
      "text/plain": [
       "\"    \\n    with open('save-files/airbnb-test.txt','a+')as f:\\n        f.write(price)\\n\""
      ]
     },
     "execution_count": 38,
     "metadata": {},
     "output_type": "execute_result"
    }
   ],
   "source": [
    "# 爬取 Airbnb 青岛17页房源\n",
    "import codecs\n",
    "import time\n",
    "from selenium import webdriver\n",
    "\n",
    "#fp = webdriver.FirefoxProfile()\n",
    "#fp.set_preference('permissions.default.stylesheet',2)\n",
    "fp.set_preference('permissions.default.image',2)\n",
    "#fp.set_preference('javascript.enabled',False)\n",
    "driver = webdriver.Firefox()\n",
    "\n",
    "driver.get(\"https://zh.airbnb.com/s/Qingdao--China/homes\")\n",
    "print('testetste')\n",
    "#找到页面中所有的出租房\n",
    "rent_list = driver.find_elements_by_css_selector('div._gig1e7')\n",
    "for each in rent_list:\n",
    "    \n",
    "    price = each.find_element_by_css_selector('div._18gk84h')\n",
    "    #price = price.replace('每晚','')\n",
    "    comment = each.find_element_by_css_selector('span._1cy09umr')\n",
    "    details = each.find_element_by_css_selector('div._qhtkbey').text\n",
    "    Htype = each.find_element_by_css_selector('span._fk7kh10')\n",
    "    house_type = Htype.split('·')[0]\n",
    "    bed_number = Htype.split('·')[1]\n",
    "    \n",
    "    with open('save-files/airbnb-test.txt','a+')as f:\n",
    "       \n",
    "       f.write(comment,details,price,house_type,bed_number)\n",
    "time.sleep(5)"
   ]
  },
  {
   "cell_type": "markdown",
   "metadata": {},
   "source": [
    "## BeautifulSoup "
   ]
  },
  {
   "cell_type": "code",
   "execution_count": 42,
   "metadata": {
    "scrolled": false
   },
   "outputs": [
    {
     "name": "stdout",
     "output_type": "stream",
     "text": [
      "第四章 – 4.3 通过selenium 模拟浏览器抓取\n",
      "第四章 – 4.2 解析真实地址抓取\n",
      "第四章- 动态网页抓取 (解析真实地址 + selenium)\n",
      "Hello world!\n"
     ]
    }
   ],
   "source": [
    "import requests\n",
    "from bs4 import BeautifulSoup\n",
    "link = 'http://www.santostang.com/'\n",
    "headers = {'User-Agent': 'Mozilla/5.0 (Windows NT 10.0; Win64; x64; rv:67.0) Gecko/20100101 Firefox/67.0'}\n",
    "r =requests.get(link, headers=headers)\n",
    "soup = BeautifulSoup(r.text,'html.parser')\n",
    "first_title = soup.find('h1',class_='post-title').a.text.strip() # first title \n",
    "title_list = soup.find_all('h1',class_='post-title') #all titles\n",
    "for i in range(len(title_list)):\n",
    "    title = title_list[i].a.text.strip()\n",
    "    print(title)\n",
    "    "
   ]
  }
 ],
 "metadata": {
  "kernelspec": {
   "display_name": "Python 3",
   "language": "python",
   "name": "python3"
  },
  "language_info": {
   "codemirror_mode": {
    "name": "ipython",
    "version": 3
   },
   "file_extension": ".py",
   "mimetype": "text/x-python",
   "name": "python",
   "nbconvert_exporter": "python",
   "pygments_lexer": "ipython3",
   "version": "3.7.0"
  }
 },
 "nbformat": 4,
 "nbformat_minor": 2
}
