{
 "cells": [
  {
   "cell_type": "raw",
   "metadata": {},
   "source": [
    "Useful checklist for NLP task\n",
    "https://zhuanlan.zhihu.com/p/34120684\n",
    "\n",
    "NLP tutorial\n",
    "https://github.com/hundredblocks/concrete_NLP_tutorial/blob/master/NLP_notebook.ipynb\n"
   ]
  },
  {
   "cell_type": "code",
   "execution_count": 1,
   "metadata": {},
   "outputs": [],
   "source": [
    "# Toolkits for Supervised Txt Classification\n",
    "# Scikit-learn\n",
    "# NLTK\n",
    "## interfaces with sklearn and other ML toolkits (Weka)\n"
   ]
  },
  {
   "cell_type": "code",
   "execution_count": null,
   "metadata": {},
   "outputs": [],
   "source": [
    "# Scikit-learn \n",
    "# using sklearn naiveBayesClassifier\n",
    "\n",
    "from sklearn import naive_bayes\n",
    "#two ways of training data in naive bayes\n",
    "# multinomial and bernoulli\n",
    "\n",
    "clfrNB = naive_bayes.MultinomialNB()\n",
    "clfrNB.fit(train_data,train_labels)\n",
    "predicted_labels = clfrNB.predict(test_data)\n",
    "\n",
    "metrics.f1_score(test_labels, predict_labels, average='micro')\n"
   ]
  },
  {
   "cell_type": "code",
   "execution_count": null,
   "metadata": {},
   "outputs": [],
   "source": [
    "# SVM classifier\n",
    "import sklearn import svm\n",
    "clfrSVM =svm.SVC(kernel='linear',C=0.1)\n",
    "clfrSVM.fit(train_data,train_labels)\n",
    "predicted_labels = clfrSVM.predict(test_data)"
   ]
  },
  {
   "cell_type": "code",
   "execution_count": null,
   "metadata": {},
   "outputs": [],
   "source": [
    "# Model Selection \n",
    "# hold out\n",
    "from sklearn import model_selection\n",
    "X_train,X_test,y_train,y_test = model_selection.train_test_split(train_data,train_labels,test_size=0.333,random_state = 0)\n",
    "\n",
    "# 5-fold cv\n",
    "predicted_labels = model_selection.cross_val_predect(clfrSVM,train_data,train_labels,cv=5)"
   ]
  },
  {
   "cell_type": "code",
   "execution_count": null,
   "metadata": {},
   "outputs": [],
   "source": [
    "#Supervised Test Classification in NLTK\n",
    "from nltk.classify import NaiveBayesClassifier\n",
    "classifier = NaiveBayesClassifier.train(train_set)\n",
    "classifier.classify(unlabeled_instance) # if one instance\n",
    "classifier.classify_many(unlabeled_instances) #if many instances\n",
    "\n",
    "#calculate the accuracy on the performance of the model\n",
    "nltk.classify.util.accuracy(classifier,test_set)\n",
    "\n",
    "classifier.labels() # gives all the labels the classfier has trained on\n",
    "classifier.show_most_imformative_features() # gives the top features that the most important/informative \n",
    "\n"
   ]
  },
  {
   "cell_type": "code",
   "execution_count": null,
   "metadata": {},
   "outputs": [],
   "source": [
    "# for SVM there's no native nltk function \n",
    "# but you can use the SklearnClassifier \n",
    "\n",
    "from nltk.classify import SklearnClassifier\n",
    "from sklearn.native_bayes import MultinomialNB\n",
    "from sklearn.svm import SVC\n",
    "\n",
    "clfrNB = SklearnClassifier(MultinomialNB()).train(train_set)\n",
    "clfrSVM = SklearnClassifier(SVC(),kernel = 'linear').train(train_set)\n"
   ]
  }
 ],
 "metadata": {
  "kernelspec": {
   "display_name": "Python 3",
   "language": "python",
   "name": "python3"
  },
  "language_info": {
   "codemirror_mode": {
    "name": "ipython",
    "version": 3
   },
   "file_extension": ".py",
   "mimetype": "text/x-python",
   "name": "python",
   "nbconvert_exporter": "python",
   "pygments_lexer": "ipython3",
   "version": "3.7.0"
  }
 },
 "nbformat": 4,
 "nbformat_minor": 2
}
